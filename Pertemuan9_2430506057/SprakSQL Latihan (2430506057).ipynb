{
 "cells": [
  {
   "cell_type": "code",
   "execution_count": 2,
   "id": "cf1fe703-fa3d-46f5-83f4-95e74ccf437b",
   "metadata": {},
   "outputs": [
    {
     "name": "stderr",
     "output_type": "stream",
     "text": [
      "Setting default log level to \"WARN\".\n",
      "To adjust logging level use sc.setLogLevel(newLevel). For SparkR, use setLogLevel(newLevel).\n",
      "25/10/23 08:52:26 WARN NativeCodeLoader: Unable to load native-hadoop library for your platform... using builtin-java classes where applicable\n"
     ]
    },
    {
     "name": "stdout",
     "output_type": "stream",
     "text": [
      "Spark success!\n"
     ]
    }
   ],
   "source": [
    "import os\n",
    "import findspark\n",
    "findspark.init() # findspark sekarang sudah terinstal, jadi ini akan berhasil!\n",
    "\n",
    "from pyspark.sql import SparkSession\n",
    "\n",
    "os.environ[\"SPARK_LOCAL_IP\"] = \"127.0.0.1\"\n",
    "\n",
    "spark = SparkSession.builder \\\n",
    "    .appName(\"BigDataPractice\") \\\n",
    "    .config(\"spark.ui.port\", \"4050\") \\\n",
    "    .getOrCreate()\n",
    "\n",
    "print(\"Spark success!\")"
   ]
  },
  {
   "cell_type": "code",
   "execution_count": 3,
   "id": "226da404-7d8a-4b85-84c0-ae223a70506b",
   "metadata": {},
   "outputs": [
    {
     "name": "stderr",
     "output_type": "stream",
     "text": [
      "                                                                                "
     ]
    },
    {
     "name": "stdout",
     "output_type": "stream",
     "text": [
      "+-----+---+------+------+------+\n",
      "| Name|Age|Gender|Salary|DeptId|\n",
      "+-----+---+------+------+------+\n",
      "|James| 34|     M|  3000|     1|\n",
      "| Anna| 28|     F|  4100|     2|\n",
      "|  Lee| 23|     M|  2700|     1|\n",
      "+-----+---+------+------+------+\n",
      "\n",
      "+----+---+\n",
      "|Name|Age|\n",
      "+----+---+\n",
      "|Anna| 28|\n",
      "+----+---+\n",
      "\n",
      "+------------------+\n",
      "|       avg(Salary)|\n",
      "+------------------+\n",
      "|3266.6666666666665|\n",
      "+------------------+\n",
      "\n"
     ]
    }
   ],
   "source": [
    "data = [\n",
    "    ('James', 34, 'M', 3000, 1),\n",
    "    ('Anna', 28, 'F', 4100, 2),\n",
    "    ('Lee', 23, 'M', 2700, 1)\n",
    "]\n",
    "columns = ['Name', 'Age', 'Gender', 'Salary', 'DeptId']\n",
    "df = spark.createDataFrame(data, schema=columns)\n",
    "df.createOrReplaceTempView('employees')\n",
    "spark.sql('SELECT * FROM employees').show()\n",
    "spark.sql('SELECT Name, Age FROM employees WHERE Salary > 3000').show()\n",
    "spark.sql('SELECT AVG(Salary) FROM employees').show()\n"
   ]
  },
  {
   "cell_type": "code",
   "execution_count": 5,
   "id": "2d1d6133-95e9-45c7-a308-77b6eb13d6bb",
   "metadata": {},
   "outputs": [
    {
     "name": "stdout",
     "output_type": "stream",
     "text": [
      "+------+---+-----------+\n",
      "|Gender|Age|TotalSalary|\n",
      "+------+---+-----------+\n",
      "|     M| 23|       2700|\n",
      "|     F| 28|       4100|\n",
      "|     M| 34|       3000|\n",
      "+------+---+-----------+\n",
      "\n"
     ]
    }
   ],
   "source": [
    "spark.sql('''\n",
    "SELECT Gender, Age, SUM(Salary) AS TotalSalary\n",
    "FROM employees\n",
    "GROUP BY Gender, Age\n",
    "ORDER BY Age\n",
    "''').show()\n"
   ]
  },
  {
   "cell_type": "code",
   "execution_count": 6,
   "id": "1e232dcd-d26c-4c3f-abdf-1a1a5654b26b",
   "metadata": {},
   "outputs": [
    {
     "name": "stdout",
     "output_type": "stream",
     "text": [
      "+------+---------+\n",
      "|DeptId|AvgSalary|\n",
      "+------+---------+\n",
      "|     1|   2850.0|\n",
      "|     2|   4100.0|\n",
      "+------+---------+\n",
      "\n"
     ]
    }
   ],
   "source": [
    "spark.sql('''\n",
    "SELECT DeptId, AVG(Salary) AS AvgSalary\n",
    "FROM employees\n",
    "GROUP BY DeptId\n",
    "ORDER BY DeptId\n",
    "''').show()\n"
   ]
  },
  {
   "cell_type": "code",
   "execution_count": 7,
   "id": "50533ce0-5cf9-41f0-8dbd-671114da3e12",
   "metadata": {},
   "outputs": [
    {
     "name": "stdout",
     "output_type": "stream",
     "text": [
      "+-----+------+------+---------+\n",
      "| Name|Gender|Salary|AvgSalary|\n",
      "+-----+------+------+---------+\n",
      "|James|     M|  3000|   2850.0|\n",
      "+-----+------+------+---------+\n",
      "\n"
     ]
    }
   ],
   "source": [
    "spark.sql('''\n",
    "WITH avg_gender AS (\n",
    "    SELECT Gender, AVG(Salary) AS AvgSalary\n",
    "    FROM employees\n",
    "    GROUP BY Gender\n",
    ")\n",
    "SELECT e.Name, e.Gender, e.Salary, g.AvgSalary\n",
    "FROM employees e\n",
    "JOIN avg_gender g ON e.Gender = g.Gender\n",
    "WHERE e.Salary > g.AvgSalary\n",
    "''').show()\n"
   ]
  },
  {
   "cell_type": "code",
   "execution_count": 8,
   "id": "e068b767-0411-4d48-b423-d85b7dec3ad9",
   "metadata": {},
   "outputs": [
    {
     "name": "stdout",
     "output_type": "stream",
     "text": [
      "+-----+------+------+----------+\n",
      "| Name|DeptId|Salary|RankInDept|\n",
      "+-----+------+------+----------+\n",
      "|James|     1|  3000|         1|\n",
      "|  Lee|     1|  2700|         2|\n",
      "| Anna|     2|  4100|         1|\n",
      "+-----+------+------+----------+\n",
      "\n"
     ]
    }
   ],
   "source": [
    "spark.sql('''\n",
    "SELECT \n",
    "    Name, DeptId, Salary,\n",
    "    RANK() OVER (PARTITION BY DeptId ORDER BY Salary DESC) AS RankInDept\n",
    "FROM employees\n",
    "''').show()\n"
   ]
  },
  {
   "cell_type": "code",
   "execution_count": 9,
   "id": "74cd7262-43cd-47e9-8f59-20248b14fbd3",
   "metadata": {},
   "outputs": [
    {
     "name": "stdout",
     "output_type": "stream",
     "text": [
      "+-----+---+------+----+\n",
      "| Name|Age|Salary|rank|\n",
      "+-----+---+------+----+\n",
      "|  Lee| 23|  2700|   1|\n",
      "| Anna| 28|  4100|   1|\n",
      "|James| 34|  3000|   1|\n",
      "+-----+---+------+----+\n",
      "\n"
     ]
    }
   ],
   "source": [
    "spark.sql('''\n",
    "SELECT Name, Age, Salary, ROW_NUMBER() OVER (PARTITION BY Age ORDER BY Salary DESC) as rank\n",
    "FROM employees\n",
    "''').show()\n"
   ]
  },
  {
   "cell_type": "code",
   "execution_count": 11,
   "id": "417a879a-a821-486b-bf55-9215acf49b5b",
   "metadata": {},
   "outputs": [
    {
     "name": "stderr",
     "output_type": "stream",
     "text": [
      "25/10/23 09:12:45 WARN SparkSession: Using an existing Spark session; only runtime SQL configurations will take effect.\n"
     ]
    },
    {
     "name": "stdout",
     "output_type": "stream",
     "text": [
      "+-----+---+---------+-----------+\n",
      "| Name|Age| DeptName|ProjectName|\n",
      "+-----+---+---------+-----------+\n",
      "|  Lee| 23|       HR|  Project A|\n",
      "|James| 34|       HR|  Project A|\n",
      "| Anna| 28|Marketing|  Project B|\n",
      "+-----+---+---------+-----------+\n",
      "\n"
     ]
    }
   ],
   "source": [
    "from pyspark.sql import SparkSession\n",
    "spark = SparkSession.builder.appName('Pertemuan9').getOrCreate()\n",
    "\n",
    "# Data setup for complex SQL queries\n",
    "employees = spark.createDataFrame([\n",
    "    ('James', 34, 'M', 3000, 1),\n",
    "    ('Anna', 28, 'F', 4100, 2),\n",
    "    ('Lee', 23, 'M', 2700, 1)\n",
    "], ['Name', 'Age', 'Gender', 'Salary', 'DeptId'])\n",
    "departments = spark.createDataFrame([\n",
    "    (1, 'HR'),\n",
    "    (2, 'Marketing')\n",
    "], ['DeptId', 'DeptName'])\n",
    "projects = spark.createDataFrame([\n",
    "    (1, 'Project A'),\n",
    "    (2, 'Project B')\n",
    "], ['DeptId', 'ProjectName'])\n",
    "employees.createOrReplaceTempView('employees')\n",
    "departments.createOrReplaceTempView('departments')\n",
    "projects.createOrReplaceTempView('projects')\n",
    "\n",
    "# Complex SQL query involving multiple joins and subqueries\n",
    "spark.sql('''\n",
    "SELECT e.Name, e.Age, d.DeptName, p.ProjectName\n",
    "FROM employees e\n",
    "JOIN departments d ON e.DeptId = d.DeptId\n",
    "JOIN projects p ON e.DeptId = p.DeptId\n",
    "''').show()"
   ]
  },
  {
   "cell_type": "code",
   "execution_count": 12,
   "id": "771d9501-6a79-4014-9fa1-0486ed92b499",
   "metadata": {},
   "outputs": [
    {
     "name": "stdout",
     "output_type": "stream",
     "text": [
      "+-----+------+---------+------+-------------+----------+\n",
      "| Name|DeptId| DeptName|Salary|AvgDeptSalary|RankInDept|\n",
      "+-----+------+---------+------+-------------+----------+\n",
      "|James|     1|       HR|  3000|       2850.0|         1|\n",
      "|  Lee|     1|       HR|  2700|       2850.0|         2|\n",
      "| Anna|     2|Marketing|  4100|       4100.0|         1|\n",
      "+-----+------+---------+------+-------------+----------+\n",
      "\n"
     ]
    }
   ],
   "source": [
    "spark.sql('''\n",
    "SELECT \n",
    "    e.Name,\n",
    "    e.DeptId,\n",
    "    d.DeptName,\n",
    "    e.Salary,\n",
    "    AVG(e.Salary) OVER (PARTITION BY e.DeptId) AS AvgDeptSalary,\n",
    "    RANK() OVER (PARTITION BY e.DeptId ORDER BY e.Salary DESC) AS RankInDept\n",
    "FROM employees e\n",
    "JOIN departments d ON e.DeptId = d.DeptId\n",
    "ORDER BY e.DeptId, RankInDept\n",
    "''').show()\n"
   ]
  },
  {
   "cell_type": "code",
   "execution_count": 13,
   "id": "9600a7f6-32b3-47e0-9a89-05da562e554f",
   "metadata": {},
   "outputs": [
    {
     "name": "stdout",
     "output_type": "stream",
     "text": [
      "+-----+------+---------+---+------+----------+------------+\n",
      "| Name|DeptId| DeptName|Age|Salary|PrevSalary|SalaryChange|\n",
      "+-----+------+---------+---+------+----------+------------+\n",
      "|  Lee|     1|       HR| 23|  2700|      NULL|        NULL|\n",
      "|James|     1|       HR| 34|  3000|      2700|         300|\n",
      "| Anna|     2|Marketing| 28|  4100|      NULL|        NULL|\n",
      "+-----+------+---------+---+------+----------+------------+\n",
      "\n"
     ]
    }
   ],
   "source": [
    "spark.sql('''\n",
    "SELECT\n",
    "    e.Name,\n",
    "    e.DeptId,\n",
    "    d.DeptName,\n",
    "    e.Age,\n",
    "    e.Salary,\n",
    "    LAG(e.Salary) OVER (PARTITION BY e.DeptId ORDER BY e.Age) AS PrevSalary,\n",
    "    (e.Salary - LAG(e.Salary) OVER (PARTITION BY e.DeptId ORDER BY e.Age)) AS SalaryChange\n",
    "FROM employees e\n",
    "JOIN departments d ON e.DeptId = d.DeptId\n",
    "ORDER BY e.DeptId, e.Age\n",
    "''').show()\n"
   ]
  },
  {
   "cell_type": "code",
   "execution_count": 17,
   "id": "3a581236-33da-4505-a5eb-39675642b01d",
   "metadata": {},
   "outputs": [
    {
     "data": {
      "image/png": "[encoded data removed]",
      "text/plain": [
       "<Figure size 640x480 with 1 Axes>"
      ]
     },
     "metadata": {},
     "output_type": "display_data"
    }
   ],
   "source": [
    "#Tambahan\n",
    "df_trend = spark.sql('''\n",
    "SELECT e.Age, e.Salary, d.DeptName\n",
    "FROM employees e\n",
    "JOIN departments d ON e.DeptId = d.DeptId\n",
    "''').toPandas()\n",
    "\n",
    "import matplotlib.pyplot as plt\n",
    "for dept in df_trend['DeptName'].unique():\n",
    "    subset = df_trend[df_trend['DeptName'] == dept]\n",
    "    plt.plot(subset['Age'], subset['Salary'], marker='o', label=dept)\n",
    "\n",
    "plt.title(\"Tren Gaji Berdasarkan Usia per Departemen\")\n",
    "plt.xlabel(\"Usia\")\n",
    "plt.ylabel(\"Gaji\")\n",
    "plt.legend()\n",
    "plt.show()\n"
   ]
  },
  {
   "cell_type": "code",
   "execution_count": 15,
   "id": "8be02dc1-5d47-4ce1-bad2-3c265be1bbfd",
   "metadata": {},
   "outputs": [
    {
     "data": {
      "image/png": "[encoded data removed]",
      "text/plain": [
       "<Figure size 1000x500 with 1 Axes>"
      ]
     },
     "metadata": {},
     "output_type": "display_data"
    }
   ],
   "source": [
    "import matplotlib.pyplot as plt\n",
    "import pandas as pd\n",
    "\n",
    "# Advanced data analysis with visualization\n",
    "salary_trends = spark.sql('''\n",
    "SELECT Age, AVG(Salary) AS AverageSalary\n",
    "FROM employees\n",
    "GROUP BY Age\n",
    "ORDER BY Age\n",
    "''').toPandas()\n",
    "\n",
    "# Visualization of salary trends\n",
    "plt.figure(figsize=(10, 5))\n",
    "plt.plot(salary_trends['Age'], salary_trends['AverageSalary'], marker='o')\n",
    "plt.xlabel('Age')\n",
    "plt.ylabel('Average Salary')\n",
    "plt.title('Salary Trends by Age')\n",
    "plt.grid(True)\n",
    "plt.show()\n"
   ]
  },
  {
   "cell_type": "code",
   "execution_count": null,
   "id": "0d994405-7ab5-4602-961a-999659c82391",
   "metadata": {},
   "outputs": [],
   "source": []
  }
 ],
 "metadata": {
  "kernelspec": {
   "display_name": "Python 3 (ipykernel)",
   "language": "python",
   "name": "python3"
  },
  "language_info": {
   "codemirror_mode": {
    "name": "ipython",
    "version": 3
   },
   "file_extension": ".py",
   "mimetype": "text/x-python",
   "name": "python",
   "nbconvert_exporter": "python",
   "pygments_lexer": "ipython3",
   "version": "3.13.5"
  }
 },
 "nbformat": 4,
 "nbformat_minor": 5
}
