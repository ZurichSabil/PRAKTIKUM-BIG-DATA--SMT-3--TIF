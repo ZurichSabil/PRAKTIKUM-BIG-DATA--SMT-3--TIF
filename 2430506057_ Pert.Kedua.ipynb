{
 "cells": [
  {
   "cell_type": "code",
   "execution_count": 1,
   "id": "17bb906a-a950-4625-b41f-9ed3d51b218d",
   "metadata": {},
   "outputs": [
    {
     "name": "stderr",
     "output_type": "stream",
     "text": [
      "WARNING: Using incubator modules: jdk.incubator.vector\n",
      "Using Spark's default log4j profile: org/apache/spark/log4j2-defaults.properties\n",
      "25/09/01 23:29:16 WARN Utils: Your hostname, zurich-VivoBook-ASUSLaptop-X412FL-A412FL, resolves to a loopback address: 127.0.1.1; using 10.113.113.182 instead (on interface wlo1)\n",
      "25/09/01 23:29:16 WARN Utils: Set SPARK_LOCAL_IP if you need to bind to another address\n",
      "Using Spark's default log4j profile: org/apache/spark/log4j2-defaults.properties\n",
      "Setting default log level to \"WARN\".\n",
      "To adjust logging level use sc.setLogLevel(newLevel). For SparkR, use setLogLevel(newLevel).\n",
      "25/09/01 23:29:18 WARN NativeCodeLoader: Unable to load native-hadoop library for your platform... using builtin-java classes where applicable\n",
      "                                                                                "
     ]
    },
    {
     "name": "stdout",
     "output_type": "stream",
     "text": [
      "+-----+----+\n",
      "| Nama|Usia|\n",
      "+-----+----+\n",
      "|  Ali|  34|\n",
      "| Budi|  23|\n",
      "|Citra|  29|\n",
      "| Dina|  45|\n",
      "+-----+----+\n",
      "\n"
     ]
    }
   ],
   "source": [
    "# Membuat proyek awal menggunakan PySpark dan Pandas\n",
    "from pyspark.sql import SparkSession\n",
    "\n",
    "# Menginisialisasi sesi Spark\n",
    "spark = SparkSession.builder.appName(\"BigDataPractice\").getOrCreate()\n",
    "\n",
    "# Menyusun DataFrame sederhana dengan data contoh\n",
    "data = [(\"Ali\", 34), (\"Budi\", 23), (\"Citra\", 29), (\"Dina\", 45)]\n",
    "columns = [\"Nama\", \"Usia\"]\n",
    "df = spark.createDataFrame(data, columns)\n",
    "\n",
    "# Menampilkan isi DataFrame ke layar\n",
    "df.show()"
   ]
  },
  {
   "cell_type": "code",
   "execution_count": 2,
   "id": "cbb9c1f4-c660-45f1-8262-6c73619f685f",
   "metadata": {},
   "outputs": [
    {
     "name": "stdout",
     "output_type": "stream",
     "text": [
      "+-----+----+---------+---------+------+\n",
      "| Nama|Usia|Pekerjaan|     Hobi|Gender|\n",
      "+-----+----+---------+---------+------+\n",
      "|  Ali|  34|      TNI|Memancing|     L|\n",
      "| Budi|  23|      TNI| Olahraga|     L|\n",
      "|Citra|  29|     Guru|    Senam|     P|\n",
      "| Dina|  45| Karyawan|    Senam|     P|\n",
      "+-----+----+---------+---------+------+\n",
      "\n"
     ]
    }
   ],
   "source": [
    "# Tugas 1: Jalankan program berikut lalu lakukan modifikasi \n",
    "# dengan menambahkan atribut baru seperti pekerjaan, hobi, dan gender\n",
    "\n",
    "from pyspark.sql import SparkSession\n",
    "\n",
    "# Mengaktifkan sesi Spark\n",
    "spark = SparkSession.builder.appName(\"BigDataPractice\").getOrCreate()\n",
    "\n",
    "# Menyusun DataFrame dengan tambahan kolom pekerjaan, hobi, serta gender\n",
    "data = [(\"Ali\", 34, \"TNI\", \"Memancing\", \"L\"),\n",
    "        (\"Budi\", 23, \"TNI\", \"Olahraga\", \"L\"),\n",
    "        (\"Citra\", 29, \"Guru\", \"Senam\", \"P\"),\n",
    "        (\"Dina\", 45, \"Karyawan\", \"Senam\", \"P\")]\n",
    "columns = [\"Nama\", \"Usia\", \"Pekerjaan\", \"Hobi\", \"Gender\"]\n",
    "df = spark.createDataFrame(data, columns)\n",
    "\n",
    "# Menampilkan hasil DataFrame ke output\n",
    "df.show()"
   ]
  },
  {
   "cell_type": "code",
   "execution_count": 3,
   "id": "7e004136-5bdf-4c2b-bb15-e1d74b9220c1",
   "metadata": {},
   "outputs": [
    {
     "name": "stdout",
     "output_type": "stream",
     "text": [
      "+-----+----+---------+---------+------+\n",
      "| Nama|Usia|Pekerjaan|     Hobi|Gender|\n",
      "+-----+----+---------+---------+------+\n",
      "|  Ali|  34|      TNI|Memancing|     L|\n",
      "| Budi|  23|      TNI| Olahraga|     L|\n",
      "|Citra|  29|     Guru|    Senam|     P|\n",
      "| Dina|  45| Karyawan|    Senam|     P|\n",
      "+-----+----+---------+---------+------+\n",
      "\n",
      "+----+----+---------+---------+------+\n",
      "|Nama|Usia|Pekerjaan|     Hobi|Gender|\n",
      "+----+----+---------+---------+------+\n",
      "| Ali|  34|      TNI|Memancing|     L|\n",
      "|Dina|  45| Karyawan|    Senam|     P|\n",
      "+----+----+---------+---------+------+\n",
      "\n"
     ]
    },
    {
     "name": "stderr",
     "output_type": "stream",
     "text": [
      "[Stage 8:=============================>                             (2 + 2) / 4]"
     ]
    },
    {
     "name": "stdout",
     "output_type": "stream",
     "text": [
      "+---------+\n",
      "|avg(Usia)|\n",
      "+---------+\n",
      "|    32.75|\n",
      "+---------+\n",
      "\n"
     ]
    },
    {
     "name": "stderr",
     "output_type": "stream",
     "text": [
      "                                                                                "
     ]
    }
   ],
   "source": [
    "# Praktik PySpark Tingkat Lanjut\n",
    "# Latihan 1: Manipulasi Data dengan PySpark\n",
    "# Tugas 2: Terapkan filter, hitung nilai rata-rata, dan urutkan data menggunakan PySpark\n",
    "\n",
    "from pyspark.sql import SparkSession\n",
    "\n",
    "# Membuka sesi kerja Spark\n",
    "spark = SparkSession.builder.appName(\"BigDataPractice\").getOrCreate()\n",
    "\n",
    "# Membuat DataFrame dengan beberapa kolom tambahan\n",
    "data = [(\"Ali\", 34, \"TNI\", \"Memancing\", \"L\"),\n",
    "        (\"Budi\", 23, \"TNI\", \"Olahraga\", \"L\"),\n",
    "        (\"Citra\", 29, \"Guru\", \"Senam\", \"P\"),\n",
    "        (\"Dina\", 45, \"Karyawan\", \"Senam\", \"P\")]\n",
    "columns = [\"Nama\", \"Usia\", \"Pekerjaan\", \"Hobi\", \"Gender\"]\n",
    "df = spark.createDataFrame(data, columns)\n",
    "\n",
    "# Menampilkan isi DataFrame awal\n",
    "df.show()\n",
    "\n",
    "# Menyaring data (filter) untuk menampilkan usia di atas 30 tahun\n",
    "df_filtered = df.filter(df['Usia'] > 30)\n",
    "df_filtered.show()\n",
    "\n",
    "# Menghitung rata-rata kolom usia\n",
    "from pyspark.sql.functions import avg\n",
    "df.groupBy().agg(avg(\"Usia\")).show()\n",
    "\n",
    "# Mengurutkan data berdasarkan usia dari yang tertinggi ke terendah\n",
    "df_sorted = df.orderBy(\"Usia\", ascending=False)"
   ]
  },
  {
   "cell_type": "code",
   "execution_count": 4,
   "id": "31864394-81d1-4be5-a8c6-54441be2880d",
   "metadata": {},
   "outputs": [
    {
     "data": {
      "text/html": [
       "<div>\n",
       "<style scoped>\n",
       "    .dataframe tbody tr th:only-of-type {\n",
       "        vertical-align: middle;\n",
       "    }\n",
       "\n",
       "    .dataframe tbody tr th {\n",
       "        vertical-align: top;\n",
       "    }\n",
       "\n",
       "    .dataframe thead th {\n",
       "        text-align: right;\n",
       "    }\n",
       "</style>\n",
       "<table border=\"1\" class=\"dataframe\">\n",
       "  <thead>\n",
       "    <tr style=\"text-align: right;\">\n",
       "      <th></th>\n",
       "      <th>Nama</th>\n",
       "      <th>Usia</th>\n",
       "    </tr>\n",
       "  </thead>\n",
       "  <tbody>\n",
       "    <tr>\n",
       "      <th>0</th>\n",
       "      <td>Ali</td>\n",
       "      <td>34</td>\n",
       "    </tr>\n",
       "    <tr>\n",
       "      <th>1</th>\n",
       "      <td>Budi</td>\n",
       "      <td>23</td>\n",
       "    </tr>\n",
       "    <tr>\n",
       "      <th>2</th>\n",
       "      <td>Citra</td>\n",
       "      <td>29</td>\n",
       "    </tr>\n",
       "    <tr>\n",
       "      <th>3</th>\n",
       "      <td>Dina</td>\n",
       "      <td>45</td>\n",
       "    </tr>\n",
       "  </tbody>\n",
       "</table>\n",
       "</div>"
      ],
      "text/plain": [
       "    Nama  Usia\n",
       "0    Ali    34\n",
       "1   Budi    23\n",
       "2  Citra    29\n",
       "3   Dina    45"
      ]
     },
     "execution_count": 4,
     "metadata": {},
     "output_type": "execute_result"
    }
   ],
   "source": [
    "# Praktik menggunakan Pandas\n",
    "# Latihan 2: Membuat DataFrame dengan library Pandas\n",
    "import pandas as pd\n",
    "\n",
    "# Menyusun DataFrame sederhana menggunakan Pandas\n",
    "data_pandas = {\"Nama\": [\"Ali\", \"Budi\", \"Citra\", \"Dina\"], \"Usia\": [34, 23, 29, 45]}\n",
    "df_pandas = pd.DataFrame(data_pandas)\n",
    "\n",
    "# Menampilkan isi DataFrame yang dibuat dengan Pandas\n",
    "df_pandas"
   ]
  },
  {
   "cell_type": "code",
   "execution_count": 5,
   "id": "7f7fa883-f3c6-4b96-b425-f64f0f4aa95d",
   "metadata": {},
   "outputs": [
    {
     "data": {
      "text/html": [
       "<div>\n",
       "<style scoped>\n",
       "    .dataframe tbody tr th:only-of-type {\n",
       "        vertical-align: middle;\n",
       "    }\n",
       "\n",
       "    .dataframe tbody tr th {\n",
       "        vertical-align: top;\n",
       "    }\n",
       "\n",
       "    .dataframe thead th {\n",
       "        text-align: right;\n",
       "    }\n",
       "</style>\n",
       "<table border=\"1\" class=\"dataframe\">\n",
       "  <thead>\n",
       "    <tr style=\"text-align: right;\">\n",
       "      <th></th>\n",
       "      <th>Nama</th>\n",
       "      <th>Usia</th>\n",
       "      <th>Kategori Usia</th>\n",
       "    </tr>\n",
       "  </thead>\n",
       "  <tbody>\n",
       "    <tr>\n",
       "      <th>0</th>\n",
       "      <td>Ali</td>\n",
       "      <td>34</td>\n",
       "      <td>Dewasa</td>\n",
       "    </tr>\n",
       "    <tr>\n",
       "      <th>3</th>\n",
       "      <td>Dina</td>\n",
       "      <td>45</td>\n",
       "      <td>Dewasa</td>\n",
       "    </tr>\n",
       "  </tbody>\n",
       "</table>\n",
       "</div>"
      ],
      "text/plain": [
       "   Nama  Usia Kategori Usia\n",
       "0   Ali    34        Dewasa\n",
       "3  Dina    45        Dewasa"
      ]
     },
     "metadata": {},
     "output_type": "display_data"
    }
   ],
   "source": [
    "# Tugas 3: Modifikasi DataFrame Pandas dengan menambahkan kolom baru\n",
    "# serta melakukan penyaringan data berdasarkan usia\n",
    "import pandas as pd\n",
    "\n",
    "# Membuat DataFrame awal menggunakan Pandas\n",
    "data_pandas = {\"Nama\": [\"Ali\", \"Budi\", \"Citra\", \"Dina\"],\n",
    "               \"Usia\": [34, 23, 29, 45]}\n",
    "df_pandas = pd.DataFrame(data_pandas)\n",
    "\n",
    "# Menambahkan kolom tambahan 'Kategori Usia' dengan kondisi tertentu\n",
    "df_pandas[\"Kategori Usia\"] = df_pandas[\"Usia\"].apply(lambda x: \"Muda\" if x < 30 else \"Dewasa\")\n",
    "\n",
    "# Menyaring data: hanya menampilkan baris dengan usia lebih dari 30 tahun\n",
    "df_filtered = df_pandas[df_pandas[\"Usia\"] > 30]\n",
    "\n",
    "# Menampilkan DataFrame hasil modifikasi\n",
    "df_pandas\n",
    "display(df_filtered)"
   ]
  },
  {
   "cell_type": "code",
   "execution_count": 7,
   "id": "fc211a72-8637-4e39-b89a-a2728cde2927",
   "metadata": {},
   "outputs": [
    {
     "name": "stdout",
     "output_type": "stream",
     "text": [
      "    Nama  Usia Pekerjaan\n",
      "0    Ali    34    Dokter\n",
      "1   Budi    23      Guru\n",
      "2  Citra    29  Insinyur\n",
      "3   Dina    45   Perawat\n",
      "            Usia\n",
      "count   4.000000\n",
      "mean   32.750000\n",
      "std     9.322911\n",
      "min    23.000000\n",
      "25%    27.500000\n",
      "50%    31.500000\n",
      "75%    36.750000\n",
      "max    45.000000\n"
     ]
    },
    {
     "data": {
      "image/png": "[encoded data removed]",
      "text/plain": [
       "<Figure size 640x480 with 1 Axes>"
      ]
     },
     "metadata": {},
     "output_type": "display_data"
    }
   ],
   "source": [
    "# Praktik Lanjutan dengan Pandas\n",
    "# Latihan 3: Menerapkan operasi yang lebih kompleks menggunakan Pandas\n",
    "# Tugas 4: Lakukan penggabungan antar DataFrame serta tampilkan visualisasi data\n",
    "\n",
    "import pandas as pd\n",
    "\n",
    "# Membuat DataFrame pertama (berisi nama dan usia)\n",
    "data_pandas = {\"Nama\": [\"Ali\", \"Budi\", \"Citra\", \"Dina\"], \"Usia\": [34, 23, 29, 45]}\n",
    "df_pandas = pd.DataFrame(data_pandas)\n",
    "\n",
    "# Membuat DataFrame kedua (berisi nama dan pekerjaan)\n",
    "data_pandas_2 = {\"Nama\": [\"Ali\", \"Budi\", \"Citra\", \"Dina\"],\n",
    "                 \"Pekerjaan\": [\"Dokter\", \"Guru\", \"Insinyur\", \"Perawat\"]}\n",
    "df_pandas_2 = pd.DataFrame(data_pandas_2)\n",
    "\n",
    "# Menggabungkan kedua DataFrame berdasarkan kolom 'Nama'\n",
    "df_joined = pd.merge(df_pandas, df_pandas_2, on=\"Nama\")\n",
    "print(df_joined)\n",
    "\n",
    "# Menampilkan statistik deskriptif dari DataFrame pertama\n",
    "print(df_pandas.describe())\n",
    "\n",
    "# Membuat visualisasi sederhana berupa diagram batang untuk kolom 'Usia'\n",
    "import matplotlib.pyplot as plt\n",
    "df_pandas['Usia'].plot(kind='bar')\n",
    "plt.show()"
   ]
  },
  {
   "cell_type": "code",
   "execution_count": 8,
   "id": "beb8c184-526b-4c8f-8f2a-cc72891b36a7",
   "metadata": {},
   "outputs": [
    {
     "name": "stdout",
     "output_type": "stream",
     "text": [
      "+-----+----+\n",
      "| Nama|Usia|\n",
      "+-----+----+\n",
      "|  Ali|  34|\n",
      "| Budi|  23|\n",
      "|Citra|  29|\n",
      "| Dina|  45|\n",
      "+-----+----+\n",
      "\n"
     ]
    },
    {
     "data": {
      "text/plain": [
       "(    Nama  Usia Pekerjaan       Hobi Gender\n",
       " 0    Ali    34       TNI  Memancing      L\n",
       " 1   Budi    23       TNI   Olahraga      L\n",
       " 2  Citra    29      Guru      Senam      P\n",
       " 3   Dina    45  Karyawan      Senam      P,\n",
       " None)"
      ]
     },
     "execution_count": 8,
     "metadata": {},
     "output_type": "execute_result"
    }
   ],
   "source": [
    "# Mengintegrasikan PySpark dengan Pandas\n",
    "# Latihan 4: Mengonversi DataFrame antara PySpark dan Pandas\n",
    "# Contoh praktik konversi DataFrame dari PySpark ke Pandas serta dari Pandas ke PySpark\n",
    "\n",
    "# Konversi DataFrame dari PySpark ke dalam format Pandas\n",
    "df_pandas_from_spark = df.toPandas()\n",
    "\n",
    "# Konversi DataFrame dari Pandas menjadi DataFrame PySpark\n",
    "df_spark_from_pandas = spark.createDataFrame(df_pandas)\n",
    "\n",
    "# Menampilkan hasil DataFrame yang sudah dikonversi\n",
    "df_pandas_from_spark, df_spark_from_pandas.show()"
   ]
  },
  {
   "cell_type": "code",
   "execution_count": 9,
   "id": "e7542bca-3e79-412f-9859-3687a12879e3",
   "metadata": {},
   "outputs": [
    {
     "name": "stderr",
     "output_type": "stream",
     "text": [
      "25/09/01 23:43:26 WARN SparkSession: Using an existing Spark session; only runtime SQL configurations will take effect.\n"
     ]
    },
    {
     "name": "stdout",
     "output_type": "stream",
     "text": [
      "+-----+----+\n",
      "| Nama|Usia|\n",
      "+-----+----+\n",
      "|  Ali|  34|\n",
      "| Budi|  23|\n",
      "|Citra|  29|\n",
      "| Dina|  45|\n",
      "|  Eka|  31|\n",
      "|Fajar|  27|\n",
      "+-----+----+\n",
      "\n",
      "+--------------+\n",
      "|Rata-rata Usia|\n",
      "+--------------+\n",
      "|          31.5|\n",
      "+--------------+\n",
      "\n",
      "+-------------+\n",
      "|Usia Maksimum|\n",
      "+-------------+\n",
      "|           45|\n",
      "+-------------+\n",
      "\n"
     ]
    }
   ],
   "source": [
    "# Tugas 5: Manfaatkan metode konversi untuk menggabungkan data dari PySpark dengan data Pandas\n",
    "# Setelah itu lakukan analisis sederhana seperti menghitung rata-rata usia\n",
    "# Tugas 6: Lanjutkan dengan penggabungan data PySpark dan Pandas\n",
    "# Kemudian terapkan operasi statistika, misalnya mencari usia maksimum\n",
    "\n",
    "from pyspark.sql import SparkSession\n",
    "from pyspark.sql.functions import avg, max\n",
    "import pandas as pd\n",
    "\n",
    "# 1. Membuat atau memulai sesi Spark\n",
    "spark = SparkSession.builder.appName(\"GabungDataPySparkPandas\").getOrCreate()\n",
    "\n",
    "# 2. Dataset awal yang dibuat dengan PySpark\n",
    "data_spark = [(\"Ali\", 34), (\"Budi\", 23), (\"Citra\", 29), (\"Dina\", 45)]\n",
    "columns = [\"Nama\", \"Usia\"]\n",
    "df_spark = spark.createDataFrame(data_spark, columns)\n",
    "\n",
    "# 3. Dataset tambahan yang dibuat menggunakan Pandas\n",
    "data_pandas = {\n",
    "    \"Nama\": [\"Eka\", \"Fajar\"],\n",
    "    \"Usia\": [31, 27]\n",
    "}\n",
    "df_pandas = pd.DataFrame(data_pandas)\n",
    "\n",
    "# 4. Ubah DataFrame Pandas menjadi DataFrame PySpark\n",
    "df_spark_from_pandas = spark.createDataFrame(df_pandas)\n",
    "\n",
    "# 5. Menggabungkan DataFrame PySpark awal dengan hasil konversi dari Pandas\n",
    "df_combined = df_spark.union(df_spark_from_pandas)\n",
    "\n",
    "# 6. Menampilkan DataFrame gabungan\n",
    "df_combined.show()\n",
    "\n",
    "# 7. Analisis sederhana: menghitung nilai rata-rata usia\n",
    "df_combined.groupBy().agg(avg(\"Usia\").alias(\"Rata-rata Usia\")).show()\n",
    "\n",
    "# 8. Analisis tambahan: menghitung nilai maksimum pada kolom Usia\n",
    "df_combined.agg(max(\"Usia\").alias(\"Usia Maksimum\")).show()\n"
   ]
  },
  {
   "cell_type": "code",
   "execution_count": null,
   "id": "cbc1ed06-99fe-4cba-aec5-daf4d7408be9",
   "metadata": {},
   "outputs": [],
   "source": []
  }
 ],
 "metadata": {
  "kernelspec": {
   "display_name": "Python [conda env:base] *",
   "language": "python",
   "name": "conda-base-py"
  },
  "language_info": {
   "codemirror_mode": {
    "name": "ipython",
    "version": 3
   },
   "file_extension": ".py",
   "mimetype": "text/x-python",
   "name": "python",
   "nbconvert_exporter": "python",
   "pygments_lexer": "ipython3",
   "version": "3.13.5"
  }
 },
 "nbformat": 4,
 "nbformat_minor": 5
}
