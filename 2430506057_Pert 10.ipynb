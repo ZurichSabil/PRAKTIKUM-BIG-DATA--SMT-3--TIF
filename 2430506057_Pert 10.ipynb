{
 "cells": [
  {
   "cell_type": "code",
   "execution_count": 2,
   "id": "f72906a0-e6c4-434d-af3d-51ac20957efe",
   "metadata": {},
   "outputs": [
    {
     "name": "stdout",
     "output_type": "stream",
     "text": [
      "✅ Connected to MongoDB\n"
     ]
    }
   ],
   "source": [
    "from pymongo import MongoClient\n",
    "\n",
    "client = MongoClient(\"mongodb://localhost:27017/\")\n",
    "\n",
    "db = client[\"company_db\"]\n",
    "collection = db[\"employees\"]\n",
    "print(\"✅ Connected to MongoDB\")"
   ]
  },
  {
   "cell_type": "code",
   "execution_count": 17,
   "id": "025389b6-5b5d-4c0c-a5d1-2d870a5df67e",
   "metadata": {},
   "outputs": [],
   "source": [
    "#KONEKSI DAN PERSIAPAN DATABASE\n",
    "from pymongo import MongoClient\n",
    "\n",
    "klien = MongoClient(\"mongodb://localhost:27017/\")\n",
    "\n",
    "database = klien['perusahaan']\n",
    "\n",
    "koleksi = database['pegawai']\n",
    "\n"
   ]
  },
  {
   "cell_type": "code",
   "execution_count": 18,
   "id": "9545bc1a-8da3-4fc0-a4d1-4ce4bf00ec73",
   "metadata": {},
   "outputs": [
    {
     "name": "stdout",
     "output_type": "stream",
     "text": [
      "Data Alice berhasil ditambahkan.\n",
      "Data tambahan berhasil ditambahkan.\n"
     ]
    }
   ],
   "source": [
    "# 2. CREATE / MENAMBAHKAN DATA\n",
    "data_pegawai = {\n",
    "    'nama': 'Alice',\n",
    "    'departemen': 'Keuangan',\n",
    "    'usia': 29,\n",
    "    'gaji': 4500\n",
    "}\n",
    "koleksi.insert_one(data_pegawai)\n",
    "print('Data Alice berhasil ditambahkan.')\n",
    "\n",
    "# Menambahkan beberapa data sekaligus\n",
    "data_tambahan = [\n",
    "    {'nama': 'Budi', 'departemen': 'IT', 'usia': 32, 'gaji': 6000},\n",
    "    {'nama': 'Rio', 'departemen': 'HRD', 'usia': 26, 'gaji': 4000},\n",
    "    {'nama': 'Syahwa', 'departemen': 'Keuangan', 'usia': 35, 'gaji': 7000},\n",
    "    {'nama': 'Eko', 'departemen': 'IT', 'usia': 24, 'gaji': 3800}\n",
    "]\n",
    "koleksi.insert_many(data_tambahan)\n",
    "print('Data tambahan berhasil ditambahkan.')\n"
   ]
  },
  {
   "cell_type": "code",
   "execution_count": 19,
   "id": "ca83a45c-f667-496a-89a0-d91b6290fd04",
   "metadata": {},
   "outputs": [
    {
     "name": "stdout",
     "output_type": "stream",
     "text": [
      "\n",
      "=== 🄳🄰🅃🄰 🄿🄴🄶🄰🅆🄰🄸 🅂🄰🄰🅃 🄸🄽🄸 ===\n",
      "{'_id': ObjectId('6902b91f98ecb15dd8257c14'), 'nama': 'Alice', 'departemen': 'Keuangan', 'usia': 29, 'gaji': 4500}\n",
      "{'_id': ObjectId('6902b91f98ecb15dd8257c15'), 'nama': 'Budi', 'departemen': 'IT', 'usia': 32, 'gaji': 6000}\n",
      "{'_id': ObjectId('6902b91f98ecb15dd8257c16'), 'nama': 'Rio', 'departemen': 'HRD', 'usia': 26, 'gaji': 4000}\n",
      "{'_id': ObjectId('6902b91f98ecb15dd8257c17'), 'nama': 'Syahwa', 'departemen': 'Keuangan', 'usia': 35, 'gaji': 7000}\n",
      "{'_id': ObjectId('6902b91f98ecb15dd8257c18'), 'nama': 'Eko', 'departemen': 'IT', 'usia': 24, 'gaji': 3800}\n"
     ]
    }
   ],
   "source": [
    "# 3. READ / MENAMPILKAN DATA\n",
    "print(\"\\n=== 🄳🄰🅃🄰 🄿🄴🄶🄰🅆🄰🄸 🅂🄰🄰🅃 🄸🄽🄸 ===\")\n",
    "for pegawai in koleksi.find():\n",
    "    print(pegawai)\n"
   ]
  },
  {
   "cell_type": "code",
   "execution_count": 21,
   "id": "6e412ef3-0775-4bb1-8994-a960eec3bba5",
   "metadata": {},
   "outputs": [
    {
     "name": "stdout",
     "output_type": "stream",
     "text": [
      "\n",
      "Gaji Budi berhasil diperbarui.\n",
      "Gaji seluruh pegawai di departemen Keuangan dinaikkan.\n",
      "\n",
      "=== 𝔻𝔸𝕋𝔸 𝕊𝔼𝕋𝔼𝕃𝔸ℍ 𝕌ℙ𝔻𝔸𝕋𝔼 ===\n",
      "{'_id': ObjectId('6902b91f98ecb15dd8257c14'), 'nama': 'Alice', 'departemen': 'Keuangan', 'usia': 29, 'gaji': 12500}\n",
      "{'_id': ObjectId('6902b91f98ecb15dd8257c15'), 'nama': 'Budi', 'departemen': 'IT', 'usia': 32, 'gaji': 6500}\n",
      "{'_id': ObjectId('6902b91f98ecb15dd8257c16'), 'nama': 'Rio', 'departemen': 'HRD', 'usia': 26, 'gaji': 4000}\n",
      "{'_id': ObjectId('6902b91f98ecb15dd8257c17'), 'nama': 'Syahwa', 'departemen': 'Keuangan', 'usia': 35, 'gaji': 15000}\n",
      "{'_id': ObjectId('6902b91f98ecb15dd8257c18'), 'nama': 'Eko', 'departemen': 'IT', 'usia': 24, 'gaji': 3800}\n"
     ]
    }
   ],
   "source": [
    "# 4. UPDATE / MEMPERBARUI DATA\n",
    "# Contoh 1: Update satu data berdasarkan nama\n",
    "koleksi.update_one(\n",
    "    {'nama': 'Budi'},                \n",
    "    {'$set': {'gaji': 6500}}         \n",
    ")\n",
    "print(\"\\nGaji Budi berhasil diperbarui.\")\n",
    "\n",
    "# Contoh 2: Update banyak data sekaligus\n",
    "koleksi.update_many(\n",
    "    {'departemen': 'Keuangan'},\n",
    "    {'$inc': {'gaji': 4000}}          \n",
    ")\n",
    "print(\"Gaji seluruh pegawai di departemen Keuangan dinaikkan.\")\n",
    "\n",
    "print(\"\\n=== 𝔻𝔸𝕋𝔸 𝕊𝔼𝕋𝔼𝕃𝔸ℍ 𝕌ℙ𝔻𝔸𝕋𝔼 ===\")\n",
    "for pegawai in koleksi.find():\n",
    "    print(pegawai)\n"
   ]
  },
  {
   "cell_type": "code",
   "execution_count": 23,
   "id": "bad48943-ad2e-4768-a27b-530b9b44d5da",
   "metadata": {},
   "outputs": [
    {
     "name": "stdout",
     "output_type": "stream",
     "text": [
      "\n",
      "𝘿𝙖𝙩𝙖 𝙀𝙠𝙤 𝙗𝙚𝙧𝙝𝙖𝙨𝙞𝙡 𝙙𝙞𝙝𝙖𝙥𝙪𝙨.\n",
      "Semua pegawai dengan gaji di bawah 4000 berhasil dihapus.\n",
      "\n",
      "=== 𝐃𝐀𝐓𝐀 𝐀𝐊𝐇𝐈𝐑 ===\n",
      "{'_id': ObjectId('6902b91f98ecb15dd8257c14'), 'nama': 'Alice', 'departemen': 'Keuangan', 'usia': 29, 'gaji': 12500}\n",
      "{'_id': ObjectId('6902b91f98ecb15dd8257c15'), 'nama': 'Budi', 'departemen': 'IT', 'usia': 32, 'gaji': 6500}\n",
      "{'_id': ObjectId('6902b91f98ecb15dd8257c16'), 'nama': 'Rio', 'departemen': 'HRD', 'usia': 26, 'gaji': 4000}\n",
      "{'_id': ObjectId('6902b91f98ecb15dd8257c17'), 'nama': 'Syahwa', 'departemen': 'Keuangan', 'usia': 35, 'gaji': 15000}\n"
     ]
    }
   ],
   "source": [
    "# 5. DELETE / MENGHAPUS DATA\n",
    "\n",
    "# Contoh 1: Hapus satu data\n",
    "koleksi.delete_one({'nama': 'Eko'})\n",
    "print(\"\\n𝘿𝙖𝙩𝙖 𝙀𝙠𝙤 𝙗𝙚𝙧𝙝𝙖𝙨𝙞𝙡 𝙙𝙞𝙝𝙖𝙥𝙪𝙨.\")\n",
    "\n",
    "# Contoh 2: Hapus semua pegawai dengan gaji di bawah 4000\n",
    "koleksi.delete_many({'gaji': {'$lt': 4000}})\n",
    "print(\"Semua pegawai dengan gaji di bawah 4000 berhasil dihapus.\")\n",
    "\n",
    "# Tampilkan hasil akhir\n",
    "print(\"\\n=== 𝐃𝐀𝐓𝐀 𝐀𝐊𝐇𝐈𝐑 ===\")\n",
    "for pegawai in koleksi.find():\n",
    "    print(pegawai)\n"
   ]
  },
  {
   "cell_type": "code",
   "execution_count": 26,
   "id": "40ef65e7-5a8b-4889-9a68-16703bd95347",
   "metadata": {},
   "outputs": [
    {
     "name": "stdout",
     "output_type": "stream",
     "text": [
      "=== 🅼🅴🅽🆄 🅾🅿🅴🆁🅰🆂🅸 🅿🅴🅶🅰🆆🅰🅸 ===\n",
      "1. Tambah data pegawai\n",
      "2. Lihat semua data\n",
      "3. Update data pegawai\n",
      "4. Hapus data pegawai\n",
      "5. Keluar\n"
     ]
    },
    {
     "name": "stdin",
     "output_type": "stream",
     "text": [
      "𝗣𝗶𝗹𝗶𝗵 𝗺𝗲𝗻𝘂 (𝟭-𝟱):  1\n",
      "Masukkan nama pegawai:  Nazril\n",
      "Masukkan departemen:  Database\n",
      "Masukkan usia:  27\n",
      "Masukkan gaji:  3500\n"
     ]
    },
    {
     "name": "stdout",
     "output_type": "stream",
     "text": [
      "Data pegawai Nazril berhasil ditambahkan.\n",
      "\n",
      "=== 🅼🅴🅽🆄 🅾🅿🅴🆁🅰🆂🅸 🅿🅴🅶🅰🆆🅰🅸 ===\n",
      "1. Tambah data pegawai\n",
      "2. Lihat semua data\n",
      "3. Update data pegawai\n",
      "4. Hapus data pegawai\n",
      "5. Keluar\n"
     ]
    },
    {
     "name": "stdin",
     "output_type": "stream",
     "text": [
      "𝗣𝗶𝗹𝗶𝗵 𝗺𝗲𝗻𝘂 (𝟭-𝟱):  2\n"
     ]
    },
    {
     "name": "stdout",
     "output_type": "stream",
     "text": [
      "\n",
      "=== 🅳🅰🆃🅰 🅿🅴🅶🅰🆆🅰🅸 ===\n",
      "{'_id': ObjectId('6902b91f98ecb15dd8257c14'), 'nama': 'Alice', 'departemen': 'Keuangan', 'usia': 29, 'gaji': 12500}\n",
      "{'_id': ObjectId('6902b91f98ecb15dd8257c15'), 'nama': 'Budi', 'departemen': 'IT', 'usia': 32, 'gaji': 6500}\n",
      "{'_id': ObjectId('6902b91f98ecb15dd8257c16'), 'nama': 'Rio', 'departemen': 'HRD', 'usia': 26, 'gaji': 4000}\n",
      "{'_id': ObjectId('6902b91f98ecb15dd8257c17'), 'nama': 'Syahwa', 'departemen': 'Keuangan', 'usia': 35, 'gaji': 15000}\n",
      "{'_id': ObjectId('6902bd7498ecb15dd8257c1c'), 'nama': 'Nazril', 'departemen': 'Database', 'usia': 27, 'gaji': 3500}\n",
      "====================\n",
      "\n",
      "=== 🅼🅴🅽🆄 🅾🅿🅴🆁🅰🆂🅸 🅿🅴🅶🅰🆆🅰🅸 ===\n",
      "1. Tambah data pegawai\n",
      "2. Lihat semua data\n",
      "3. Update data pegawai\n",
      "4. Hapus data pegawai\n",
      "5. Keluar\n"
     ]
    },
    {
     "name": "stdin",
     "output_type": "stream",
     "text": [
      "𝗣𝗶𝗹𝗶𝗵 𝗺𝗲𝗻𝘂 (𝟭-𝟱):  3\n",
      "Masukkan nama pegawai yang ingin diupdate:  Rio\n"
     ]
    },
    {
     "name": "stdout",
     "output_type": "stream",
     "text": [
      "Data ditemukan: {'_id': ObjectId('6902b91f98ecb15dd8257c16'), 'nama': 'Rio', 'departemen': 'HRD', 'usia': 26, 'gaji': 4000}\n"
     ]
    },
    {
     "name": "stdin",
     "output_type": "stream",
     "text": [
      "Bidang apa yang ingin diubah? (departemen/usia/gaji):  usia\n",
      "Masukkan nilai baru:  29\n"
     ]
    },
    {
     "name": "stdout",
     "output_type": "stream",
     "text": [
      "Data pegawai Rio berhasil diperbarui.\n",
      "\n",
      "=== 🅼🅴🅽🆄 🅾🅿🅴🆁🅰🆂🅸 🅿🅴🅶🅰🆆🅰🅸 ===\n",
      "1. Tambah data pegawai\n",
      "2. Lihat semua data\n",
      "3. Update data pegawai\n",
      "4. Hapus data pegawai\n",
      "5. Keluar\n"
     ]
    },
    {
     "name": "stdin",
     "output_type": "stream",
     "text": [
      "𝗣𝗶𝗹𝗶𝗵 𝗺𝗲𝗻𝘂 (𝟭-𝟱):  2\n"
     ]
    },
    {
     "name": "stdout",
     "output_type": "stream",
     "text": [
      "\n",
      "=== 🅳🅰🆃🅰 🅿🅴🅶🅰🆆🅰🅸 ===\n",
      "{'_id': ObjectId('6902b91f98ecb15dd8257c14'), 'nama': 'Alice', 'departemen': 'Keuangan', 'usia': 29, 'gaji': 12500}\n",
      "{'_id': ObjectId('6902b91f98ecb15dd8257c15'), 'nama': 'Budi', 'departemen': 'IT', 'usia': 32, 'gaji': 6500}\n",
      "{'_id': ObjectId('6902b91f98ecb15dd8257c16'), 'nama': 'Rio', 'departemen': 'HRD', 'usia': 29, 'gaji': 4000}\n",
      "{'_id': ObjectId('6902b91f98ecb15dd8257c17'), 'nama': 'Syahwa', 'departemen': 'Keuangan', 'usia': 35, 'gaji': 15000}\n",
      "{'_id': ObjectId('6902bd7498ecb15dd8257c1c'), 'nama': 'Nazril', 'departemen': 'Database', 'usia': 27, 'gaji': 3500}\n",
      "====================\n",
      "\n",
      "=== 🅼🅴🅽🆄 🅾🅿🅴🆁🅰🆂🅸 🅿🅴🅶🅰🆆🅰🅸 ===\n",
      "1. Tambah data pegawai\n",
      "2. Lihat semua data\n",
      "3. Update data pegawai\n",
      "4. Hapus data pegawai\n",
      "5. Keluar\n"
     ]
    },
    {
     "name": "stdin",
     "output_type": "stream",
     "text": [
      "𝗣𝗶𝗹𝗶𝗵 𝗺𝗲𝗻𝘂 (𝟭-𝟱):  4\n",
      "Masukkan nama pegawai yang ingin dihapus:  Budi\n"
     ]
    },
    {
     "name": "stdout",
     "output_type": "stream",
     "text": [
      "Data pegawai Budi berhasil dihapus.\n",
      "\n",
      "=== 🅼🅴🅽🆄 🅾🅿🅴🆁🅰🆂🅸 🅿🅴🅶🅰🆆🅰🅸 ===\n",
      "1. Tambah data pegawai\n",
      "2. Lihat semua data\n",
      "3. Update data pegawai\n",
      "4. Hapus data pegawai\n",
      "5. Keluar\n"
     ]
    },
    {
     "name": "stdin",
     "output_type": "stream",
     "text": [
      "𝗣𝗶𝗹𝗶𝗵 𝗺𝗲𝗻𝘂 (𝟭-𝟱):  5\n"
     ]
    },
    {
     "name": "stdout",
     "output_type": "stream",
     "text": [
      "Program selesai. Terima kasih telah menggunakan sistem CRUD pegawai.\n"
     ]
    }
   ],
   "source": [
    "##### 6. VERSI INTERAKTIF\n",
    "\n",
    "from pymongo import MongoClient\n",
    "\n",
    "# Koneksi ke MongoDB lokal\n",
    "klien = MongoClient(\"mongodb://localhost:27017/\")\n",
    "database = klien['perusahaan']\n",
    "koleksi = database['pegawai']\n",
    "\n",
    "def tampilkan_data():\n",
    "    print(\"\\n=== 🅳🅰🆃🅰 🅿🅴🅶🅰🆆🅰🅸 ===\")\n",
    "    for pegawai in koleksi.find():\n",
    "        print(pegawai)\n",
    "    print(\"====================\\n\")\n",
    "\n",
    "while True:\n",
    "    print(\"=== 🅼🅴🅽🆄 🅾🅿🅴🆁🅰🆂🅸 🅿🅴🅶🅰🆆🅰🅸 ===\")\n",
    "    print(\"1. Tambah data pegawai\")\n",
    "    print(\"2. Lihat semua data\")\n",
    "    print(\"3. Update data pegawai\")\n",
    "    print(\"4. Hapus data pegawai\")\n",
    "    print(\"5. Keluar\")\n",
    "\n",
    "    pilihan = input(\"𝗣𝗶𝗹𝗶𝗵 𝗺𝗲𝗻𝘂 (𝟭-𝟱): \")\n",
    "\n",
    "    # CREATE\n",
    "    if pilihan == \"1\":\n",
    "        nama = input(\"Masukkan nama pegawai: \")\n",
    "        departemen = input(\"Masukkan departemen: \")\n",
    "        usia = int(input(\"Masukkan usia: \"))\n",
    "        gaji = int(input(\"Masukkan gaji: \"))\n",
    "\n",
    "        data_baru = {\n",
    "            'nama': nama,\n",
    "            'departemen': departemen,\n",
    "            'usia': usia,\n",
    "            'gaji': gaji\n",
    "        }\n",
    "\n",
    "        koleksi.insert_one(data_baru)\n",
    "        print(f\"Data pegawai {nama} berhasil ditambahkan.\\n\")\n",
    "\n",
    "    # READ\n",
    "    elif pilihan == \"2\":\n",
    "        tampilkan_data()\n",
    "\n",
    "    # UPDATE\n",
    "    elif pilihan == \"3\":\n",
    "        nama_dicari = input(\"Masukkan nama pegawai yang ingin diupdate: \")\n",
    "        data = koleksi.find_one({'nama': nama_dicari})\n",
    "\n",
    "        if data:\n",
    "            print(f\"Data ditemukan: {data}\")\n",
    "            bidang = input(\"Bidang apa yang ingin diubah? (departemen/usia/gaji): \").lower()\n",
    "            nilai_baru = input(\"Masukkan nilai baru: \")\n",
    "\n",
    "            # Ubah tipe data jika perlu\n",
    "            if bidang == 'usia' or bidang == 'gaji':\n",
    "                nilai_baru = int(nilai_baru)\n",
    "\n",
    "            koleksi.update_one({'nama': nama_dicari}, {'$set': {bidang: nilai_baru}})\n",
    "            print(f\"Data pegawai {nama_dicari} berhasil diperbarui.\\n\")\n",
    "        else:\n",
    "            print(\"Pegawai tidak ditemukan.\\n\")\n",
    "\n",
    "    # DELETE\n",
    "    elif pilihan == \"4\":\n",
    "        nama_hapus = input(\"Masukkan nama pegawai yang ingin dihapus: \")\n",
    "        hasil = koleksi.delete_one({'nama': nama_hapus})\n",
    "\n",
    "        if hasil.deleted_count > 0:\n",
    "            print(f\"Data pegawai {nama_hapus} berhasil dihapus.\\n\")\n",
    "        else:\n",
    "            print(\"Data tidak ditemukan.\\n\")\n",
    "\n",
    "    # KELUAR\n",
    "    elif pilihan == \"5\":\n",
    "        print(\"Program selesai. Terima kasih telah menggunakan sistem CRUD pegawai.\")\n",
    "        break\n",
    "\n",
    "    else:\n",
    "        print(\"Pilihan tidak valid, silakan coba lagi.\\n\")\n"
   ]
  },
  {
   "cell_type": "code",
   "execution_count": 27,
   "id": "c21a4330-c2fb-4b0a-b173-42eabb836da4",
   "metadata": {},
   "outputs": [
    {
     "name": "stdout",
     "output_type": "stream",
     "text": [
      "{'_id': 'Finance', 'average_salary': 6166.666666666667}\n",
      "{'_id': 'IT', 'average_salary': 4900.0}\n",
      "{'_id': 'HR', 'average_salary': 4000.0}\n"
     ]
    }
   ],
   "source": [
    "# Query Aggregation untuk mencari rata-rata gaji per departemen\n",
    "pipeline = [\n",
    "    {'$group': {'_id': '$department', 'average_salary': {'$avg': '$salary'}}}\n",
    "]\n",
    "for result in collection.aggregate(pipeline):\n",
    "    print(result)"
   ]
  },
  {
   "cell_type": "code",
   "execution_count": 30,
   "id": "a5f0971a-fd85-473a-88a4-077509558c30",
   "metadata": {},
   "outputs": [
    {
     "name": "stdout",
     "output_type": "stream",
     "text": [
      "=̲=R̲A̲T̲A̲-̲R̲A̲T̲A̲ ̲G̲A̲J̲I̲ ̲P̲E̲R̲ ̲D̲E̲P̲A̲R̲T̲E̲M̲E̲N=̲=\n",
      "Departemen: Keuangan, Rata-rata Gaji: 13750.00\n",
      "Departemen: HRD, Rata-rata Gaji: 4000.00\n",
      "Departemen: Database, Rata-rata Gaji: 3500.00\n"
     ]
    }
   ],
   "source": [
    "# 2. AGGREGATION UNTUK RATA-RATA GAJI PER DEPARTEMEN\n",
    "pipeline = [\n",
    "    {\n",
    "        '$group': {\n",
    "            '_id': '$departemen',                 \n",
    "            'rata_rata_gaji': {'$avg': '$gaji'}   \n",
    "        }\n",
    "    }\n",
    "]\n",
    "\n",
    "# Menjalankan pipeline agregasi\n",
    "print(\"=̲=R̲A̲T̲A̲-̲R̲A̲T̲A̲ ̲G̲A̲J̲I̲ ̲P̲E̲R̲ ̲D̲E̲P̲A̲R̲T̲E̲M̲E̲N=̲=\")\n",
    "for hasil in koleksi.aggregate(pipeline):\n",
    "    print(f\"Departemen: {hasil['_id']}, Rata-rata Gaji: {hasil['rata_rata_gaji']:.2f}\")\n"
   ]
  },
  {
   "cell_type": "code",
   "execution_count": 31,
   "id": "5fd3bb77-c609-4e9e-bff2-a264f316514f",
   "metadata": {},
   "outputs": [],
   "source": [
    "#Mengurutkan hasil berdasarkan rata-rata gaji tertinggi\n",
    "pipeline = [\n",
    "    {'$group': {'_id': '$departemen', 'rata_rata_gaji': {'$avg': '$gaji'}}},\n",
    "    {'$sort': {'rata_rata_gaji': -1}} \n",
    "]"
   ]
  },
  {
   "cell_type": "code",
   "execution_count": 34,
   "id": "0af1f1a1-79cd-4fe4-a911-b948f1c19656",
   "metadata": {},
   "outputs": [
    {
     "name": "stdout",
     "output_type": "stream",
     "text": [
      "==ⒽⒶⓈⒾⓁ ⒶⒼⒼⓇⒺⒼⒶⓈⒾ==\n",
      "Departemen: Keuangan, Rata-rata Gaji: 13750.00, Jumlah Pegawai: 2\n",
      "Departemen: HRD, Rata-rata Gaji: 4000.00, Jumlah Pegawai: 1\n",
      "Departemen: Database, Rata-rata Gaji: 3500.00, Jumlah Pegawai: 1\n"
     ]
    }
   ],
   "source": [
    "pipeline = [\n",
    "    {\n",
    "        '$group': {\n",
    "            '_id': '$departemen',\n",
    "            'rata_rata_gaji': {'$avg': '$gaji'},\n",
    "            'jumlah_pegawai': {'$sum': 1}\n",
    "        }\n",
    "    }\n",
    "]\n",
    "print(\"==ⒽⒶⓈⒾⓁ ⒶⒼⒼⓇⒺⒼⒶⓈⒾ==\")\n",
    "for hasil in koleksi.aggregate(pipeline):\n",
    "    print(f\"Departemen: {hasil['_id']}, \"\n",
    "          f\"Rata-rata Gaji: {hasil['rata_rata_gaji']:.2f}, \"\n",
    "          f\"Jumlah Pegawai: {hasil['jumlah_pegawai']}\")\n"
   ]
  },
  {
   "cell_type": "code",
   "execution_count": 39,
   "id": "9574c1e3-4f82-4c50-98f5-1b07d5353ce5",
   "metadata": {},
   "outputs": [
    {
     "name": "stdout",
     "output_type": "stream",
     "text": [
      "𝙳𝚊𝚝𝚊 𝚙𝚛𝚘𝚍𝚞𝚔 𝚋𝚎𝚛𝚑𝚊𝚜𝚒𝚕 𝚍𝚒𝚖𝚊𝚜𝚞𝚔𝚔𝚊𝚗\n"
     ]
    }
   ],
   "source": [
    "# Membuat koleksi baru bernama 'products' (4.1)\n",
    "products = db['products']\n",
    "\n",
    "# Menambahkan beberapa data produk ke dalam koleksi\n",
    "data_produk = [\n",
    "    {'nama': 'Laptop A', 'kategori': 'Elektronik', 'harga': 8500000, 'stok': 10},\n",
    "    {'nama': 'Laptop B', 'kategori': 'Elektronik', 'harga': 12000000, 'stok': 7},\n",
    "    {'nama': 'Kipas Angin', 'kategori': 'Perabot', 'harga': 350000, 'stok': 25},\n",
    "    {'nama': 'Televisi', 'kategori': 'Elektronik', 'harga': 5000000, 'stok': 5},\n",
    "    {'nama': 'Dispenser', 'kategori': 'Perabot', 'harga': 700000, 'stok': 15},\n",
    "    {'nama': 'Kursi Kayu', 'kategori': 'Perabot', 'harga': 450000, 'stok': 12},\n",
    "    {'nama': 'Mouse Wireless', 'kategori': 'Aksesori', 'harga': 150000, 'stok': 30},\n",
    "    {'nama': 'Keyboard Mechanical', 'kategori': 'Aksesori', 'harga': 550000, 'stok': 20},\n",
    "    {'nama': 'Smartphone', 'kategori': 'Elektronik', 'harga': 4500000, 'stok': 8},\n",
    "    {'nama': 'Lampu LED', 'kategori': 'Perabot', 'harga': 80000, 'stok': 50}\n",
    "]\n",
    "\n",
    "# Memasukkan seluruh data ke koleksi\n",
    "products.insert_many(data_produk)\n",
    "print(\"𝙳𝚊𝚝𝚊 𝚙𝚛𝚘𝚍𝚞𝚔 𝚋𝚎𝚛𝚑𝚊𝚜𝚒𝚕 𝚍𝚒𝚖𝚊𝚜𝚞𝚔𝚔𝚊𝚗\")\n"
   ]
  },
  {
   "cell_type": "code",
   "execution_count": 40,
   "id": "c8027273-f56f-4ce5-b405-2cab649f59a1",
   "metadata": {},
   "outputs": [
    {
     "name": "stdout",
     "output_type": "stream",
     "text": [
      "Rata-rata harga produk: 3228000.00\n",
      "\n",
      "𝗣𝗿𝗼𝗱𝘂𝗸 𝗱𝗲𝗻𝗴𝗮𝗻 𝗵𝗮𝗿𝗴𝗮 𝗱𝗶 𝗮𝘁𝗮𝘀 𝗿𝗮𝘁𝗮－𝗿𝗮𝘁𝗮:\n",
      "{'_id': ObjectId('6902c04f98ecb15dd8257c1d'), 'nama': 'Laptop A', 'kategori': 'Elektronik', 'harga': 8500000, 'stok': 10}\n",
      "{'_id': ObjectId('6902c04f98ecb15dd8257c1e'), 'nama': 'Laptop B', 'kategori': 'Elektronik', 'harga': 12000000, 'stok': 7}\n",
      "{'_id': ObjectId('6902c04f98ecb15dd8257c20'), 'nama': 'Televisi', 'kategori': 'Elektronik', 'harga': 5000000, 'stok': 5}\n",
      "{'_id': ObjectId('6902c04f98ecb15dd8257c25'), 'nama': 'Smartphone', 'kategori': 'Elektronik', 'harga': 4500000, 'stok': 8}\n",
      "{'_id': ObjectId('6902c06c98ecb15dd8257c27'), 'nama': 'Laptop A', 'kategori': 'Elektronik', 'harga': 8500000, 'stok': 10}\n",
      "{'_id': ObjectId('6902c06c98ecb15dd8257c28'), 'nama': 'Laptop B', 'kategori': 'Elektronik', 'harga': 12000000, 'stok': 7}\n",
      "{'_id': ObjectId('6902c06c98ecb15dd8257c2a'), 'nama': 'Televisi', 'kategori': 'Elektronik', 'harga': 5000000, 'stok': 5}\n",
      "{'_id': ObjectId('6902c06c98ecb15dd8257c2f'), 'nama': 'Smartphone', 'kategori': 'Elektronik', 'harga': 4500000, 'stok': 8}\n",
      "{'_id': ObjectId('6902c0fa98ecb15dd8257c31'), 'nama': 'Laptop A', 'kategori': 'Elektronik', 'harga': 8500000, 'stok': 10}\n",
      "{'_id': ObjectId('6902c0fa98ecb15dd8257c32'), 'nama': 'Laptop B', 'kategori': 'Elektronik', 'harga': 12000000, 'stok': 7}\n",
      "{'_id': ObjectId('6902c0fa98ecb15dd8257c34'), 'nama': 'Televisi', 'kategori': 'Elektronik', 'harga': 5000000, 'stok': 5}\n",
      "{'_id': ObjectId('6902c0fa98ecb15dd8257c39'), 'nama': 'Smartphone', 'kategori': 'Elektronik', 'harga': 4500000, 'stok': 8}\n"
     ]
    }
   ],
   "source": [
    "# Menghitung rata-rata harga seluruh produk (4.2)\n",
    "hasil_rata2 = list(products.aggregate([\n",
    "    {'$group': {'_id': None, 'rata_rata_harga': {'$avg': '$harga'}}}\n",
    "]))\n",
    "\n",
    "# Menyimpan nilai rata-rata harga dari hasil aggregation\n",
    "rata_rata_harga = hasil_rata2[0]['rata_rata_harga']\n",
    "print(f\"Rata-rata harga produk: {rata_rata_harga:.2f}\")\n",
    "\n",
    "# Menampilkan produk dengan harga di atas rata-rata\n",
    "print(\"\\n𝗣𝗿𝗼𝗱𝘂𝗸 𝗱𝗲𝗻𝗴𝗮𝗻 𝗵𝗮𝗿𝗴𝗮 𝗱𝗶 𝗮𝘁𝗮𝘀 𝗿𝗮𝘁𝗮－𝗿𝗮𝘁𝗮:\")\n",
    "for p in products.find({'harga': {'$gt': rata_rata_harga}}):\n",
    "    print(p)\n"
   ]
  },
  {
   "cell_type": "code",
   "execution_count": 42,
   "id": "a23ea404-83f6-4cfd-a16b-7a71c979a227",
   "metadata": {},
   "outputs": [
    {
     "name": "stdout",
     "output_type": "stream",
     "text": [
      "\n",
      "𝐓𝐨𝐭𝐚𝐥 𝐩𝐫𝐨𝐝𝐮𝐤 𝐩𝐞𝐫 𝐤𝐚𝐭𝐞𝐠𝐨𝐫𝐢:\n",
      "{'_id': 'Perabot', 'total_produk': 12, 'rata_rata_harga': 395000.0}\n",
      "{'_id': 'Elektronik', 'total_produk': 12, 'rata_rata_harga': 7500000.0}\n",
      "{'_id': 'Aksesori', 'total_produk': 6, 'rata_rata_harga': 350000.0}\n"
     ]
    }
   ],
   "source": [
    "# Membuat pipeline untuk menghitung total produk dalam setiap kategori (4.3)\n",
    "pipeline = [\n",
    "    {\n",
    "        '$group': {\n",
    "            '_id': '$kategori',\n",
    "            'total_produk': {'$sum': 1},\n",
    "            'rata_rata_harga': {'$avg': '$harga'}\n",
    "        }\n",
    "    },\n",
    "    {\n",
    "        '$sort': {'total_produk': -1}  # Urutkan dari kategori dengan produk terbanyak\n",
    "    }\n",
    "]\n",
    "\n",
    "print(\"\\n𝐓𝐨𝐭𝐚𝐥 𝐩𝐫𝐨𝐝𝐮𝐤 𝐩𝐞𝐫 𝐤𝐚𝐭𝐞𝐠𝐨𝐫𝐢:\")\n",
    "for hasil in products.aggregate(pipeline):\n",
    "    print(hasil)\n"
   ]
  },
  {
   "cell_type": "code",
   "execution_count": 49,
   "id": "eb8862a3-810f-415d-b270-f5098549d35d",
   "metadata": {},
   "outputs": [
    {
     "name": "stdout",
     "output_type": "stream",
     "text": [
      "=== 𝟻 𝙺𝙰𝚁𝚈𝙰𝚆𝙰𝙽 𝙳𝙴𝙽𝙶𝙰𝙽 𝙶𝙰𝙹𝙸 𝚃𝙴𝚁𝚃𝙸𝙽𝙶𝙶𝙸 𝙿𝙴𝚁 𝙳𝙴𝙿𝙰𝚁𝚃𝙴𝙼𝙴𝙽 ===\n",
      "\n",
      "\n",
      "Departemen: Finance\n",
      "---------------------------------------------\n",
      "1. Diana                | Gaji: Rp 7,000\n",
      "2. Diana                | Gaji: Rp 7,000\n",
      "3. Ifan                 | Gaji: Rp 7,000\n",
      "4. Ifan                 | Gaji: Rp 7,000\n",
      "5. Alice                | Gaji: Rp 4,500\n",
      "---------------------------------------------\n",
      "\n",
      "Departemen: HR\n",
      "---------------------------------------------\n",
      "1. Charlie              | Gaji: Rp 4,000\n",
      "2. Charlie              | Gaji: Rp 4,000\n",
      "3. Bagas                | Gaji: Rp 4,000\n",
      "4. Bagas                | Gaji: Rp 4,000\n",
      "---------------------------------------------\n",
      "\n",
      "Departemen: IT\n",
      "---------------------------------------------\n",
      "1. Bob                  | Gaji: Rp 6,000\n",
      "2. Bob                  | Gaji: Rp 6,000\n",
      "3. Joko                 | Gaji: Rp 6,000\n",
      "4. Joko                 | Gaji: Rp 6,000\n",
      "5. Evan                 | Gaji: Rp 3,800\n",
      "---------------------------------------------\n"
     ]
    }
   ],
   "source": [
    "# Pipeline untuk mencari 5 karyawan dengan gaji tertinggi di setiap departemen\n",
    "pipeline = [\n",
    "    {'$sort': {'department': 1, 'salary': -1}},  # Urutkan berdasarkan departemen dan gaji (desc)\n",
    "    {\n",
    "        '$group': {\n",
    "            '_id': '$department',\n",
    "            'top_employees': {'$push': {'nama': '$name', 'gaji': '$salary'}}\n",
    "        }\n",
    "    },\n",
    "    {\n",
    "        '$project': {\n",
    "            '_id': 1,\n",
    "            'top_5_employees': {'$slice': ['$top_employees', 5]}\n",
    "        }\n",
    "    }\n",
    "]\n",
    "\n",
    "# Memperbaiki format agar Rapi\n",
    "print(\"=== 𝟻 𝙺𝙰𝚁𝚈𝙰𝚆𝙰𝙽 𝙳𝙴𝙽𝙶𝙰𝙽 𝙶𝙰𝙹𝙸 𝚃𝙴𝚁𝚃𝙸𝙽𝙶𝙶𝙸 𝙿𝙴𝚁 𝙳𝙴𝙿𝙰𝚁𝚃𝙴𝙼𝙴𝙽 ===\\n\")\n",
    "for d in collection.aggregate(pipeline):\n",
    "    print(f\"\\nDepartemen: {d['_id']}\\n\" + \"-\" * 45)\n",
    "    print(\"\\n\".join([f\"{i+1}. {e['nama']:<20} | Gaji: Rp {e['gaji']:,.0f}\"\n",
    "                     for i, e in enumerate(d['top_5_employees'])]))\n",
    "    print(\"-\" * 45)"
   ]
  },
  {
   "cell_type": "code",
   "execution_count": 53,
   "id": "2f60ec85-08ad-417c-9584-ae6db51925ad",
   "metadata": {},
   "outputs": [
    {
     "name": "stdout",
     "output_type": "stream",
     "text": [
      "=== DATA KARYAWAN SEBELUM PENGHAPUSAN ===\n",
      "{'name': 'Alice', 'department': 'Finance', 'age': 29}\n",
      "{'name': 'Bob', 'department': 'IT', 'age': 32}\n",
      "{'name': 'Charlie', 'department': 'HR', 'age': 26}\n",
      "{'name': 'Diana', 'department': 'Finance', 'age': 35}\n",
      "{'name': 'Alice', 'department': 'Finance', 'age': 29}\n",
      "{'name': 'Bob', 'department': 'IT', 'age': 32}\n",
      "{'name': 'Charlie', 'department': 'HR', 'age': 26}\n",
      "{'name': 'Diana', 'department': 'Finance', 'age': 35}\n",
      "{'name': 'Joko', 'department': 'IT', 'age': 32}\n",
      "{'name': 'Bagas', 'department': 'HR', 'age': 26}\n",
      "{'name': 'Ifan', 'department': 'Finance', 'age': 35}\n",
      "{'name': 'Joko', 'department': 'IT', 'age': 32}\n",
      "{'name': 'Bagas', 'department': 'HR', 'age': 26}\n",
      "{'name': 'Ifan', 'department': 'Finance', 'age': 35}\n",
      "\n",
      " Jumlah karyawan yang dihapus: 0\n",
      "\n",
      "== 𝔻𝔸𝕋𝔸 𝕂𝔸ℝ𝕐𝔸𝕎𝔸ℕ 𝕊𝔼𝕋𝔼𝕃𝔸ℍ ℙ𝔼ℕ𝔾ℍ𝔸ℙ𝕌𝕊𝔸ℕ ==\n",
      "{'name': 'Alice', 'department': 'Finance', 'age': 29}\n",
      "{'name': 'Bob', 'department': 'IT', 'age': 32}\n",
      "{'name': 'Charlie', 'department': 'HR', 'age': 26}\n",
      "{'name': 'Diana', 'department': 'Finance', 'age': 35}\n",
      "{'name': 'Alice', 'department': 'Finance', 'age': 29}\n",
      "{'name': 'Bob', 'department': 'IT', 'age': 32}\n",
      "{'name': 'Charlie', 'department': 'HR', 'age': 26}\n",
      "{'name': 'Diana', 'department': 'Finance', 'age': 35}\n",
      "{'name': 'Joko', 'department': 'IT', 'age': 32}\n",
      "{'name': 'Bagas', 'department': 'HR', 'age': 26}\n",
      "{'name': 'Ifan', 'department': 'Finance', 'age': 35}\n",
      "{'name': 'Joko', 'department': 'IT', 'age': 32}\n",
      "{'name': 'Bagas', 'department': 'HR', 'age': 26}\n",
      "{'name': 'Ifan', 'department': 'Finance', 'age': 35}\n"
     ]
    }
   ],
   "source": [
    "# --- TUGAS 2: Menghapus Karyawan yang Berusia di Bawah 25 Tahun ---\n",
    "\n",
    "print(\"=== DATA KARYAWAN SEBELUM PENGHAPUSAN ===\")\n",
    "for emp in collection.find({}, {'_id': 0, 'name': 1, 'age': 1, 'department': 1}):\n",
    "    print(emp)\n",
    "kriteria = {'age': {'$lt': 25}}\n",
    "\n",
    "hasil_hapus = collection.delete_many(kriteria)\n",
    "print(f\"\\n Jumlah karyawan yang dihapus: {hasil_hapus.deleted_count}\")\n",
    "\n",
    "print(\"\\n== 𝔻𝔸𝕋𝔸 𝕂𝔸ℝ𝕐𝔸𝕎𝔸ℕ 𝕊𝔼𝕋𝔼𝕃𝔸ℍ ℙ𝔼ℕ𝔾ℍ𝔸ℙ𝕌𝕊𝔸ℕ ==\")\n",
    "for emp in collection.find({}, {'_id': 0, 'name': 1, 'age': 1, 'department': 1}):\n",
    "    print(emp)\n"
   ]
  },
  {
   "cell_type": "code",
   "execution_count": 56,
   "id": "5b23372a-961f-43e5-a3c7-c30c1ea61417",
   "metadata": {},
   "outputs": [
    {
     "name": "stdout",
     "output_type": "stream",
     "text": [
      "＝ ＬＡＰＯＲＡＮ ＴＯＴＡＬ ＧＡＪＩ ＆ ＲＡＴＡ－ＲＡＴＡ ＵＭＵＲ ＰＥＲ ＤＥＰＡＲＴＥＭＥＮ ＝\n",
      "\n",
      "Departemen       : Finance\n",
      "Jumlah Karyawan  : 6\n",
      "Total Gaji       : Rp 37,000\n",
      "Rata-rata Umur   : 33.0 tahun\n",
      "--------------------------------------------------\n",
      "Departemen       : HR\n",
      "Jumlah Karyawan  : 4\n",
      "Total Gaji       : Rp 16,000\n",
      "Rata-rata Umur   : 26.0 tahun\n",
      "--------------------------------------------------\n",
      "Departemen       : IT\n",
      "Jumlah Karyawan  : 4\n",
      "Total Gaji       : Rp 24,000\n",
      "Rata-rata Umur   : 32.0 tahun\n",
      "--------------------------------------------------\n"
     ]
    }
   ],
   "source": [
    "# === TUGAS 3 ===\n",
    "pipeline = [\n",
    "    {\n",
    "        '$group': {\n",
    "            '_id': '$department',                  \n",
    "            'total_gaji': {'$sum': '$salary'},     \n",
    "            'rata_umur': {'$avg': '$age'},         \n",
    "            'jumlah_karyawan': {'$sum': 1}         \n",
    "        }\n",
    "    },\n",
    "    {\n",
    "        '$sort': {'_id': 1}  \n",
    "    }\n",
    "]\n",
    "print(\"＝ ＬＡＰＯＲＡＮ ＴＯＴＡＬ ＧＡＪＩ ＆ ＲＡＴＡ－ＲＡＴＡ ＵＭＵＲ ＰＥＲ ＤＥＰＡＲＴＥＭＥＮ ＝\\n\")\n",
    "\n",
    "for hasil in collection.aggregate(pipeline):\n",
    "    departemen = hasil['_id']\n",
    "    total_gaji = hasil['total_gaji']\n",
    "    rata_umur = hasil['rata_umur']\n",
    "    jumlah = hasil['jumlah_karyawan']\n",
    "    \n",
    "    print(f\"Departemen       : {departemen}\")\n",
    "    print(f\"Jumlah Karyawan  : {jumlah}\")\n",
    "    print(f\"Total Gaji       : Rp {total_gaji:,.0f}\")\n",
    "    print(f\"Rata-rata Umur   : {rata_umur:.1f} tahun\")\n",
    "    print(\"-\" * 50)\n"
   ]
  },
  {
   "cell_type": "code",
   "execution_count": null,
   "id": "4ddc370e-fff5-447c-8d7a-78999bd761e1",
   "metadata": {},
   "outputs": [],
   "source": []
  }
 ],
 "metadata": {
  "kernelspec": {
   "display_name": "Python 3 (ipykernel)",
   "language": "python",
   "name": "python3"
  },
  "language_info": {
   "codemirror_mode": {
    "name": "ipython",
    "version": 3
   },
   "file_extension": ".py",
   "mimetype": "text/x-python",
   "name": "python",
   "nbconvert_exporter": "python",
   "pygments_lexer": "ipython3",
   "version": "3.13.5"
  }
 },
 "nbformat": 4,
 "nbformat_minor": 5
}
