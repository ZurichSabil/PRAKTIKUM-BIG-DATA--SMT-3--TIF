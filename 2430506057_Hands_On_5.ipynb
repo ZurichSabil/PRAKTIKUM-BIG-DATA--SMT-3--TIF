{
  "nbformat": 4,
  "nbformat_minor": 0,
  "metadata": {
    "colab": {
      "provenance": [],
      "authorship_tag": "ABX9TyMU/LccZiBNDS2Y++uZY54e",
      "include_colab_link": true
    },
    "kernelspec": {
      "name": "python3",
      "display_name": "Python 3"
    },
    "language_info": {
      "name": "python"
    }
  },
  "cells": [
    {
      "cell_type": "markdown",
      "metadata": {
        "id": "view-in-github",
        "colab_type": "text"
      },
      "source": [
        "<a href=\"https://colab.research.google.com/github/ZurichSabil/PRAKTIKUM-BIG-DATA--SMT-3--TIF/blob/main/2430506057_Hands_On_5.ipynb\" target=\"_parent\"><img src=\"https://colab.research.google.com/assets/colab-badge.svg\" alt=\"Open In Colab\"/></a>"
      ]
    },
    {
      "cell_type": "code",
      "execution_count": null,
      "metadata": {
        "id": "_F-OPobMWM75",
        "colab": {
          "base_uri": "https://localhost:8080/"
        },
        "outputId": "1a898d98-ab44-4fd7-d625-a15ee3a6e071"
      },
      "outputs": [
        {
          "output_type": "stream",
          "name": "stdout",
          "text": [
            "{'Brebes': 2, 'Magelang': 2, 'Tegal': 1}\n"
          ]
        }
      ],
      "source": [
        "data = [\"Brebes\", \"Magelang\", \"Brebes\", \"Tegal\", \"Magelang\"]\n",
        "\n",
        "# Map\n",
        "mapped = [(item, 1) for item in data]\n",
        "\n",
        "# Reduce\n",
        "result = {}\n",
        "for key, value in mapped:\n",
        "    result[key] = result.get(key, 0) + value\n",
        "\n",
        "print(result)"
      ]
    },
    {
      "cell_type": "code",
      "source": [
        "def map_function(text):\n",
        "    for word in text.split():\n",
        "        yield (word, 1)"
      ],
      "metadata": {
        "id": "Kvz94vAyeP0k"
      },
      "execution_count": null,
      "outputs": []
    },
    {
      "cell_type": "code",
      "source": [
        "from collections import defaultdict\n",
        "\n",
        "def reduce_function(pairs):\n",
        "    result = defaultdict(int)\n",
        "    for word, count in pairs:\n",
        "        result[word] += count\n",
        "    return result"
      ],
      "metadata": {
        "id": "RydISXdbeXul"
      },
      "execution_count": null,
      "outputs": []
    },
    {
      "cell_type": "code",
      "source": [
        "def map_function(text):\n",
        "    for word in text.split():\n",
        "        yield (word, 1)\n",
        "\n",
        "from collections import defaultdict\n",
        "\n",
        "def reduce_function(pairs):\n",
        "    result = defaultdict(int)\n",
        "    for word, count in pairs:\n",
        "        result[word] += count\n",
        "    return result\n",
        "\n",
        "text = \"Kamilah Tidar Muda Mengabdi Tuk Negara, kamilah Tidar Mengabdi\"\n",
        "mapped = list(map_function(text))\n",
        "reduced = reduce_function(mapped)\n",
        "print(reduced)"
      ],
      "metadata": {
        "colab": {
          "base_uri": "https://localhost:8080/"
        },
        "id": "sKdY8fb8ebTl",
        "outputId": "4dfae96f-5465-4908-c720-ae14639257b0"
      },
      "execution_count": null,
      "outputs": [
        {
          "output_type": "stream",
          "name": "stdout",
          "text": [
            "defaultdict(<class 'int'>, {'Kamilah': 1, 'Tidar': 2, 'Muda': 1, 'Mengabdi': 2, 'Tuk': 1, 'Negara,': 1, 'kamilah': 1})\n"
          ]
        }
      ]
    },
    {
      "cell_type": "code",
      "source": [],
      "metadata": {
        "id": "-lm3KkZNevYb"
      },
      "execution_count": null,
      "outputs": []
    }
  ]
}