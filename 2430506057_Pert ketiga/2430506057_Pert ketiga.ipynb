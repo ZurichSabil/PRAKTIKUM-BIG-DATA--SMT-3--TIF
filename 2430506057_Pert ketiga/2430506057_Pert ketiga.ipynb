{
 "cells": [
  {
   "cell_type": "code",
   "execution_count": 7,
   "id": "b2efa80c-6efb-4818-a646-91dba36b144f",
   "metadata": {},
   "outputs": [
    {
     "name": "stdout",
     "output_type": "stream",
     "text": [
      "+------------+----------+------+\n",
      "|EmployeeName|Department|Salary|\n",
      "+------------+----------+------+\n",
      "|       Tegar|    Polisi|  2500|\n",
      "|       Mayva|    Musisi|  3000|\n",
      "|     Ardhina| Pengacara|  5100|\n",
      "|       Kezia|    Dokter|  3000|\n",
      "+------------+----------+------+\n",
      "\n"
     ]
    }
   ],
   "source": [
    "\n",
    "from pyspark.sql import SparkSession\n",
    "spark = SparkSession.builder.appName('HandsOnPertemuan3').getOrCreate()\n",
    "\n",
    "data = [('Tegar', 'Polisi', 2500),\n",
    "        ('Mayva', 'Musisi', 3000),\n",
    "        ('Ardhina', 'Pengacara', 5100),\n",
    "        ('Kezia', 'Dokter', 3000)]\n",
    "columns = ['EmployeeName', 'Department', 'Salary']\n",
    "\n",
    "df = spark.createDataFrame(data, schema=columns)\n",
    "df.show()"
   ]
  },
  {
   "cell_type": "code",
   "execution_count": 10,
   "id": "ab401348-ff79-49d2-bbcc-423068492dd5",
   "metadata": {},
   "outputs": [
    {
     "name": "stdout",
     "output_type": "stream",
     "text": [
      "+------------+------+\n",
      "|EmployeeName|Salary|\n",
      "+------------+------+\n",
      "|       Tegar|  2500|\n",
      "|       Mayva|  3000|\n",
      "|     Ardhina|  5100|\n",
      "|       Kezia|  3000|\n",
      "+------------+------+\n",
      "\n",
      "+------------+----------+------+\n",
      "|EmployeeName|Department|Salary|\n",
      "+------------+----------+------+\n",
      "|     Ardhina| Pengacara|  5100|\n",
      "+------------+----------+------+\n",
      "\n",
      "+----------+-----------+\n",
      "|Department|avg(Salary)|\n",
      "+----------+-----------+\n",
      "|    Polisi|     2500.0|\n",
      "|    Musisi|     3000.0|\n",
      "| Pengacara|     5100.0|\n",
      "|    Dokter|     3000.0|\n",
      "+----------+-----------+\n",
      "\n"
     ]
    }
   ],
   "source": [
    "\n",
    "df.select('EmployeeName', 'Salary').show()\n",
    "df.filter(df['Salary'] > 3000).show()\n",
    "df.groupBy(\"Department\").avg(\"Salary\").show()\n"
   ]
  },
  {
   "cell_type": "code",
   "execution_count": 11,
   "id": "70f56e2e-cf04-4259-87db-095e75e925f1",
   "metadata": {},
   "outputs": [
    {
     "name": "stdout",
     "output_type": "stream",
     "text": [
      "+------------+----------+------+-----------+\n",
      "|EmployeeName|Department|Salary|SalaryBonus|\n",
      "+------------+----------+------+-----------+\n",
      "|       Tegar|    Polisi|  2500|      250.0|\n",
      "|       Mayva|    Musisi|  3000|      300.0|\n",
      "|     Ardhina| Pengacara|  5100|      510.0|\n",
      "|       Kezia|    Dokter|  3000|      300.0|\n",
      "+------------+----------+------+-----------+\n",
      "\n"
     ]
    },
    {
     "ename": "AnalysisException",
     "evalue": "[UNRESOLVED_COLUMN.WITH_SUGGESTION] A column, variable, or function parameter with name `SalaryBonus` cannot be resolved. Did you mean one of the following? [`EmployeeName`, `Department`, `Salary`]. SQLSTATE: 42703",
     "output_type": "error",
     "traceback": [
      "\u001b[31m---------------------------------------------------------------------------\u001b[39m",
      "\u001b[31mAnalysisException\u001b[39m                         Traceback (most recent call last)",
      "\u001b[36mCell\u001b[39m\u001b[36m \u001b[39m\u001b[32mIn[11]\u001b[39m\u001b[32m, line 2\u001b[39m\n\u001b[32m      1\u001b[39m df.withColumn(\u001b[33m'\u001b[39m\u001b[33mSalaryBonus\u001b[39m\u001b[33m'\u001b[39m, df[\u001b[33m'\u001b[39m\u001b[33mSalary\u001b[39m\u001b[33m'\u001b[39m] * \u001b[32m0.1\u001b[39m).show()\n\u001b[32m----> \u001b[39m\u001b[32m2\u001b[39m df.withColumn(\u001b[33m'\u001b[39m\u001b[33mTotalCompensation\u001b[39m\u001b[33m'\u001b[39m, df[\u001b[33m'\u001b[39m\u001b[33mSalary\u001b[39m\u001b[33m'\u001b[39m] + \u001b[43mdf\u001b[49m\u001b[43m[\u001b[49m\u001b[33;43m'\u001b[39;49m\u001b[33;43mSalaryBonus\u001b[39;49m\u001b[33;43m'\u001b[39;49m\u001b[43m]\u001b[49m).show()\n",
      "\u001b[36mFile \u001b[39m\u001b[32m~/anaconda3/envs/Sabil/lib/python3.13/site-packages/pyspark/sql/classic/dataframe.py:954\u001b[39m, in \u001b[36mDataFrame.__getitem__\u001b[39m\u001b[34m(self, item)\u001b[39m\n\u001b[32m    950\u001b[39m \u001b[38;5;28;01mdef\u001b[39;00m\u001b[38;5;250m \u001b[39m\u001b[34m__getitem__\u001b[39m(\n\u001b[32m    951\u001b[39m     \u001b[38;5;28mself\u001b[39m, item: Union[\u001b[38;5;28mint\u001b[39m, \u001b[38;5;28mstr\u001b[39m, Column, List, Tuple]\n\u001b[32m    952\u001b[39m ) -> Union[Column, ParentDataFrame]:\n\u001b[32m    953\u001b[39m     \u001b[38;5;28;01mif\u001b[39;00m \u001b[38;5;28misinstance\u001b[39m(item, \u001b[38;5;28mstr\u001b[39m):\n\u001b[32m--> \u001b[39m\u001b[32m954\u001b[39m         jc = \u001b[38;5;28;43mself\u001b[39;49m\u001b[43m.\u001b[49m\u001b[43m_jdf\u001b[49m\u001b[43m.\u001b[49m\u001b[43mapply\u001b[49m\u001b[43m(\u001b[49m\u001b[43mitem\u001b[49m\u001b[43m)\u001b[49m\n\u001b[32m    955\u001b[39m         \u001b[38;5;28;01mreturn\u001b[39;00m Column(jc)\n\u001b[32m    956\u001b[39m     \u001b[38;5;28;01melif\u001b[39;00m \u001b[38;5;28misinstance\u001b[39m(item, Column):\n",
      "\u001b[36mFile \u001b[39m\u001b[32m~/anaconda3/envs/Sabil/lib/python3.13/site-packages/py4j/java_gateway.py:1362\u001b[39m, in \u001b[36mJavaMember.__call__\u001b[39m\u001b[34m(self, *args)\u001b[39m\n\u001b[32m   1356\u001b[39m command = proto.CALL_COMMAND_NAME +\\\n\u001b[32m   1357\u001b[39m     \u001b[38;5;28mself\u001b[39m.command_header +\\\n\u001b[32m   1358\u001b[39m     args_command +\\\n\u001b[32m   1359\u001b[39m     proto.END_COMMAND_PART\n\u001b[32m   1361\u001b[39m answer = \u001b[38;5;28mself\u001b[39m.gateway_client.send_command(command)\n\u001b[32m-> \u001b[39m\u001b[32m1362\u001b[39m return_value = \u001b[43mget_return_value\u001b[49m\u001b[43m(\u001b[49m\n\u001b[32m   1363\u001b[39m \u001b[43m    \u001b[49m\u001b[43manswer\u001b[49m\u001b[43m,\u001b[49m\u001b[43m \u001b[49m\u001b[38;5;28;43mself\u001b[39;49m\u001b[43m.\u001b[49m\u001b[43mgateway_client\u001b[49m\u001b[43m,\u001b[49m\u001b[43m \u001b[49m\u001b[38;5;28;43mself\u001b[39;49m\u001b[43m.\u001b[49m\u001b[43mtarget_id\u001b[49m\u001b[43m,\u001b[49m\u001b[43m \u001b[49m\u001b[38;5;28;43mself\u001b[39;49m\u001b[43m.\u001b[49m\u001b[43mname\u001b[49m\u001b[43m)\u001b[49m\n\u001b[32m   1365\u001b[39m \u001b[38;5;28;01mfor\u001b[39;00m temp_arg \u001b[38;5;129;01min\u001b[39;00m temp_args:\n\u001b[32m   1366\u001b[39m     \u001b[38;5;28;01mif\u001b[39;00m \u001b[38;5;28mhasattr\u001b[39m(temp_arg, \u001b[33m\"\u001b[39m\u001b[33m_detach\u001b[39m\u001b[33m\"\u001b[39m):\n",
      "\u001b[36mFile \u001b[39m\u001b[32m~/anaconda3/envs/Sabil/lib/python3.13/site-packages/pyspark/errors/exceptions/captured.py:288\u001b[39m, in \u001b[36mcapture_sql_exception.<locals>.deco\u001b[39m\u001b[34m(*a, **kw)\u001b[39m\n\u001b[32m    284\u001b[39m converted = convert_exception(e.java_exception)\n\u001b[32m    285\u001b[39m \u001b[38;5;28;01mif\u001b[39;00m \u001b[38;5;129;01mnot\u001b[39;00m \u001b[38;5;28misinstance\u001b[39m(converted, UnknownException):\n\u001b[32m    286\u001b[39m     \u001b[38;5;66;03m# Hide where the exception came from that shows a non-Pythonic\u001b[39;00m\n\u001b[32m    287\u001b[39m     \u001b[38;5;66;03m# JVM exception message.\u001b[39;00m\n\u001b[32m--> \u001b[39m\u001b[32m288\u001b[39m     \u001b[38;5;28;01mraise\u001b[39;00m converted \u001b[38;5;28;01mfrom\u001b[39;00m\u001b[38;5;250m \u001b[39m\u001b[38;5;28;01mNone\u001b[39;00m\n\u001b[32m    289\u001b[39m \u001b[38;5;28;01melse\u001b[39;00m:\n\u001b[32m    290\u001b[39m     \u001b[38;5;28;01mraise\u001b[39;00m\n",
      "\u001b[31mAnalysisException\u001b[39m: [UNRESOLVED_COLUMN.WITH_SUGGESTION] A column, variable, or function parameter with name `SalaryBonus` cannot be resolved. Did you mean one of the following? [`EmployeeName`, `Department`, `Salary`]. SQLSTATE: 42703"
     ]
    }
   ],
   "source": [
    "df.withColumn('SalaryBonus', df['Salary'] * 0.1).show()\n",
    "df.withColumn('TotalCompensation', df['Salary'] + df['SalaryBonus']).show()"
   ]
  },
  {
   "cell_type": "code",
   "execution_count": 12,
   "id": "6938801f-ad8b-471e-8630-01b5af1a54ed",
   "metadata": {},
   "outputs": [
    {
     "name": "stdout",
     "output_type": "stream",
     "text": [
      "+------------+----------+------+----+\n",
      "|EmployeeName|Department|Salary|Rank|\n",
      "+------------+----------+------+----+\n",
      "|       Kezia|    Dokter|  3000|   1|\n",
      "|       Mayva|    Musisi|  3000|   1|\n",
      "|     Ardhina| Pengacara|  5100|   1|\n",
      "|       Tegar|    Polisi|  2500|   1|\n",
      "+------------+----------+------+----+\n",
      "\n"
     ]
    }
   ],
   "source": [
    "from pyspark.sql.window import Window\n",
    "from pyspark.sql import functions as F\n",
    "\n",
    "windowSpec = Window.partitionBy('Department').orderBy('Salary')\n",
    "df.withColumn('Rank', F.rank().over(windowSpec)).show()"
   ]
  },
  {
   "cell_type": "code",
   "execution_count": 25,
   "id": "24c7a4d3-35e8-4f5a-8762-fbd57468f389",
   "metadata": {},
   "outputs": [
    {
     "name": "stdout",
     "output_type": "stream",
     "text": [
      "+-------+-------+--------------------+---------------+--------------------+-------------+------------------+------------+------+---------+--------------------+--------------------+\n",
      "|show_id|   type|               title|       director|                cast|      country|        date_added|release_year|rating| duration|           listed_in|         description|\n",
      "+-------+-------+--------------------+---------------+--------------------+-------------+------------------+------------+------+---------+--------------------+--------------------+\n",
      "|     s1|  Movie|Dick Johnson Is Dead|Kirsten Johnson|                NULL|United States|September 25, 2021|        2020| PG-13|   90 min|       Documentaries|As her father nea...|\n",
      "|     s2|TV Show|       Blood & Water|           NULL|Ama Qamata, Khosi...| South Africa|September 24, 2021|        2021| TV-MA|2 Seasons|International TV ...|After crossing pa...|\n",
      "|     s3|TV Show|           Ganglands|Julien Leclercq|Sami Bouajila, Tr...|         NULL|September 24, 2021|        2021| TV-MA| 1 Season|Crime TV Shows, I...|To protect his fa...|\n",
      "|     s4|TV Show|Jailbirds New Orl...|           NULL|                NULL|         NULL|September 24, 2021|        2021| TV-MA| 1 Season|Docuseries, Reali...|Feuds, flirtation...|\n",
      "|     s5|TV Show|        Kota Factory|           NULL|Mayur More, Jiten...|        India|September 24, 2021|        2021| TV-MA|2 Seasons|International TV ...|In a city of coac...|\n",
      "+-------+-------+--------------------+---------------+--------------------+-------------+------------------+------------+------+---------+--------------------+--------------------+\n",
      "only showing top 5 rows\n",
      "root\n",
      " |-- show_id: string (nullable = true)\n",
      " |-- type: string (nullable = true)\n",
      " |-- title: string (nullable = true)\n",
      " |-- director: string (nullable = true)\n",
      " |-- cast: string (nullable = true)\n",
      " |-- country: string (nullable = true)\n",
      " |-- date_added: string (nullable = true)\n",
      " |-- release_year: string (nullable = true)\n",
      " |-- rating: string (nullable = true)\n",
      " |-- duration: string (nullable = true)\n",
      " |-- listed_in: string (nullable = true)\n",
      " |-- description: string (nullable = true)\n",
      "\n"
     ]
    }
   ],
   "source": [
    "#Load dataset\n",
    "from pyspark.sql import SparkSession\n",
    "from pyspark.sql import functions as F\n",
    "\n",
    "spark = SparkSession.builder.appName(\"NetflixDataset\").getOrCreate()\n",
    "\n",
    "df = spark.read.csv(\"/home/zurich/netflix_titles.csv\", header=True, inferSchema=True)\n",
    "df.show(5)\n",
    "df.printSchema()\n"
   ]
  },
  {
   "cell_type": "code",
   "execution_count": 26,
   "id": "6160d338-919b-409c-b483-96db61880f2d",
   "metadata": {},
   "outputs": [
    {
     "name": "stdout",
     "output_type": "stream",
     "text": [
      "+--------------------+--------------------+\n",
      "|               title|             country|\n",
      "+--------------------+--------------------+\n",
      "|Dick Johnson Is Dead|       United States|\n",
      "|       Blood & Water|        South Africa|\n",
      "|           Ganglands|                NULL|\n",
      "|Jailbirds New Orl...|                NULL|\n",
      "|        Kota Factory|               India|\n",
      "|       Midnight Mass|                NULL|\n",
      "|My Little Pony: A...|                NULL|\n",
      "|             Sankofa|United States, Gh...|\n",
      "|The Great British...|      United Kingdom|\n",
      "|        The Starling|       United States|\n",
      "+--------------------+--------------------+\n",
      "only showing top 10 rows\n",
      "+--------------------+------------+\n",
      "|               title|release_year|\n",
      "+--------------------+------------+\n",
      "|Dick Johnson Is Dead|        2020|\n",
      "|       Blood & Water|        2021|\n",
      "|           Ganglands|        2021|\n",
      "|Jailbirds New Orl...|        2021|\n",
      "|        Kota Factory|        2021|\n",
      "|       Midnight Mass|        2021|\n",
      "|My Little Pony: A...|        2021|\n",
      "|The Great British...|        2021|\n",
      "|        The Starling|        2021|\n",
      "|Vendetta: Truth, ...|        2021|\n",
      "+--------------------+------------+\n",
      "only showing top 10 rows\n",
      "+-------------+-----+\n",
      "|         type|count|\n",
      "+-------------+-----+\n",
      "|         NULL|    1|\n",
      "|      TV Show| 2676|\n",
      "|        Movie| 6131|\n",
      "|William Wyler|    1|\n",
      "+-------------+-----+\n",
      "\n"
     ]
    }
   ],
   "source": [
    "#Transformasi Dasar\n",
    "from pyspark.sql import functions as F\n",
    "\n",
    "df.select(\"title\", \"country\").show(10)\n",
    "df.filter(df[\"release_year\"] > 2015).select(\"title\", \"release_year\").show(10)\n",
    "df.groupBy(\"type\").count().show()\n"
   ]
  },
  {
   "cell_type": "code",
   "execution_count": 27,
   "id": "f703e3f8-a265-449d-abe7-56fa98f0b03a",
   "metadata": {},
   "outputs": [
    {
     "name": "stdout",
     "output_type": "stream",
     "text": [
      "+--------------------+------------+---------+\n",
      "|               title|release_year|is_recent|\n",
      "+--------------------+------------+---------+\n",
      "|Dick Johnson Is Dead|        2020|     true|\n",
      "|       Blood & Water|        2021|     true|\n",
      "|           Ganglands|        2021|     true|\n",
      "|Jailbirds New Orl...|        2021|     true|\n",
      "|        Kota Factory|        2021|     true|\n",
      "|       Midnight Mass|        2021|     true|\n",
      "|My Little Pony: A...|        2021|     true|\n",
      "|             Sankofa|        1993|    false|\n",
      "|The Great British...|        2021|     true|\n",
      "|        The Starling|        2021|     true|\n",
      "+--------------------+------------+---------+\n",
      "only showing top 10 rows\n",
      "+--------------------+------------+\n",
      "|               title|title_length|\n",
      "+--------------------+------------+\n",
      "|Dick Johnson Is Dead|          20|\n",
      "|       Blood & Water|          13|\n",
      "|           Ganglands|           9|\n",
      "|Jailbirds New Orl...|          21|\n",
      "|        Kota Factory|          12|\n",
      "|       Midnight Mass|          13|\n",
      "|My Little Pony: A...|          32|\n",
      "|             Sankofa|           7|\n",
      "|The Great British...|          29|\n",
      "|        The Starling|          12|\n",
      "+--------------------+------------+\n",
      "only showing top 10 rows\n"
     ]
    }
   ],
   "source": [
    "#Bekerja Dengan Kolom Tambahan\n",
    "df = df.withColumn(\"is_recent\", F.when(df[\"release_year\"] >= 2020, True).otherwise(False))\n",
    "df.select(\"title\", \"release_year\", \"is_recent\").show(10)\n",
    "df = df.withColumn(\"title_length\", F.length(\"title\"))\n",
    "df.select(\"title\", \"title_length\").show(10)"
   ]
  },
  {
   "cell_type": "code",
   "execution_count": 23,
   "id": "d00aaec6-06b9-4250-9c0d-0c5620ee9601",
   "metadata": {},
   "outputs": [
    {
     "name": "stdout",
     "output_type": "stream",
     "text": [
      "+-----------------+-----+\n",
      "|           rating|count|\n",
      "+-----------------+-----+\n",
      "|            TV-MA| 3195|\n",
      "|            TV-14| 2158|\n",
      "|            TV-PG|  862|\n",
      "|                R|  796|\n",
      "|            PG-13|  489|\n",
      "|            TV-Y7|  334|\n",
      "|             TV-Y|  307|\n",
      "|               PG|  286|\n",
      "|             TV-G|  220|\n",
      "|               NR|   80|\n",
      "|                G|   41|\n",
      "|             NULL|    6|\n",
      "|         TV-Y7-FV|    6|\n",
      "|               UR|    3|\n",
      "|            NC-17|    3|\n",
      "|             2021|    2|\n",
      "| November 1, 2020|    1|\n",
      "| Shavidee Trotter|    1|\n",
      "|    Adriane Lenox|    1|\n",
      "|    Maury Chaykin|    1|\n",
      "+-----------------+-----+\n",
      "only showing top 20 rows\n",
      "+--------------+-----+\n",
      "|       country|count|\n",
      "+--------------+-----+\n",
      "| United States| 2805|\n",
      "|         India|  972|\n",
      "|          NULL|  832|\n",
      "|United Kingdom|  419|\n",
      "|         Japan|  245|\n",
      "|   South Korea|  199|\n",
      "|        Canada|  181|\n",
      "|         Spain|  145|\n",
      "|        France|  123|\n",
      "|        Mexico|  110|\n",
      "+--------------+-----+\n",
      "only showing top 10 rows\n",
      "+-------------+------------------+\n",
      "|         type|  avg_title_length|\n",
      "+-------------+------------------+\n",
      "|         NULL|              NULL|\n",
      "|      TV Show| 17.03101644245142|\n",
      "|        Movie|18.029032784211385|\n",
      "|William Wyler|              NULL|\n",
      "+-------------+------------------+\n",
      "\n"
     ]
    }
   ],
   "source": [
    "#Agregasi & Statistik\n",
    "df.groupBy(\"rating\").count().orderBy(F.desc(\"count\")).show()\n",
    "df.groupBy(\"country\").count().orderBy(F.desc(\"count\")).show(10)\n",
    "df.groupBy(\"type\").agg(F.avg(\"title_length\").alias(\"avg_title_length\")).show()\n"
   ]
  },
  {
   "cell_type": "code",
   "execution_count": null,
   "id": "d4a1eb42-ccd1-420c-b723-0e429a5a6812",
   "metadata": {},
   "outputs": [],
   "source": []
  },
  {
   "cell_type": "code",
   "execution_count": 28,
   "id": "4c4bfb5b-7a64-4c5c-8de4-cb114eda06b9",
   "metadata": {},
   "outputs": [
    {
     "name": "stdout",
     "output_type": "stream",
     "text": [
      "+----------------------------------------------------+-------+-----------------+----+\n",
      "|title                                               |type   |release_year     |Rank|\n",
      "+----------------------------------------------------+-------+-----------------+----+\n",
      "|NULL                                                |NULL   |NULL             |1   |\n",
      "|The Next Karate Kid                                 |Movie  |United States    |1   |\n",
      "|To All the Boys: Always and Forever - The Afterparty|Movie  |June 12, 2021    |2   |\n",
      "|What Would Sophia Loren Do?                         |Movie  |January 15, 2021 |3   |\n",
      "|An Imperfect Murder                                 |Movie  |January 13, 2021 |4   |\n",
      "|An Easy Girl                                        |Movie  |August 13, 2020  |5   |\n",
      "|The Challenge                                       |TV Show|December 15, 2020|1   |\n",
      "|Blood & Water                                       |TV Show|2021             |2   |\n",
      "|Ganglands                                           |TV Show|2021             |2   |\n",
      "|Jailbirds New Orleans                               |TV Show|2021             |2   |\n",
      "|Kota Factory                                        |TV Show|2021             |2   |\n",
      "|Midnight Mass                                       |TV Show|2021             |2   |\n",
      "|The Great British Baking Show                       |TV Show|2021             |2   |\n",
      "|Vendetta: Truth, Lies and The Mafia                 |TV Show|2021             |2   |\n",
      "|Bangkok Breaking                                    |TV Show|2021             |2   |\n",
      "|Crime Stories: India Detectives                     |TV Show|2021             |2   |\n",
      "|Dear White People                                   |TV Show|2021             |2   |\n",
      "|Jaguar                                              |TV Show|2021             |2   |\n",
      "|Monsters Inside: The 24 Faces of Billy Milligan     |TV Show|2021             |2   |\n",
      "|Love on the Spectrum                                |TV Show|2021             |2   |\n",
      "+----------------------------------------------------+-------+-----------------+----+\n",
      "only showing top 20 rows\n"
     ]
    }
   ],
   "source": [
    "#Window Function\n",
    "from pyspark.sql.window import Window\n",
    "\n",
    "windowSpec = Window.partitionBy(\"type\").orderBy(F.desc(\"release_year\"))\n",
    "\n",
    "df.withColumn(\"Rank\", F.rank().over(windowSpec)) \\\n",
    "  .select(\"title\", \"type\", \"release_year\", \"Rank\") \\\n",
    "  .filter(\"Rank <= 5\") \\\n",
    "  .show(20, truncate=False)\n"
   ]
  },
  {
   "cell_type": "code",
   "execution_count": null,
   "id": "6f251b6e-5dc5-44ce-958e-7590e73de37e",
   "metadata": {},
   "outputs": [],
   "source": []
  }
 ],
 "metadata": {
  "kernelspec": {
   "display_name": "Python 3 (ipykernel)",
   "language": "python",
   "name": "python3"
  },
  "language_info": {
   "codemirror_mode": {
    "name": "ipython",
    "version": 3
   },
   "file_extension": ".py",
   "mimetype": "text/x-python",
   "name": "python",
   "nbconvert_exporter": "python",
   "pygments_lexer": "ipython3",
   "version": "3.13.5"
  }
 },
 "nbformat": 4,
 "nbformat_minor": 5
}
